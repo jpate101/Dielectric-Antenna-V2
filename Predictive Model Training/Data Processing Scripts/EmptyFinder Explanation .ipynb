{
 "cells": [
  {
   "cell_type": "markdown",
   "id": "f31c81a1",
   "metadata": {},
   "source": [
    "EmptyFinder\n",
    "\n",
    "this script is used to find the datapoints with missing label data desinged to be used with the output of the S1P_Finder Script. Will Print empty samples to console\n",
    "\n",
    "note that this script only checks a single label field that must be specified\n",
    "\n",
    "import used librarys"
   ]
  },
  {
   "cell_type": "code",
   "execution_count": 3,
   "id": "ee3aff94",
   "metadata": {},
   "outputs": [],
   "source": [
    "import os\n",
    "import json"
   ]
  },
  {
   "cell_type": "markdown",
   "id": "af4dd8a5",
   "metadata": {},
   "source": [
    "main body of program\n",
    "\n",
    "basically loop through the data.json files and looks to see if the field specifed at \n",
    "'if data.get(\"shearVain20cm\", \"\")'\n",
    "is empty.\n"
   ]
  },
  {
   "cell_type": "code",
   "execution_count": null,
   "id": "64675007",
   "metadata": {},
   "outputs": [],
   "source": [
    "def find_empty_labels_and_output_timestamps(base_folder):\n",
    "    # List to store timestamps with empty labels\n",
    "    timestamps_with_empty_labels = []\n",
    "\n",
    "    # Traverse the directory structure\n",
    "    for root, dirs, files in os.walk(base_folder):\n",
    "        for file in files:\n",
    "            if file == 'data.json':\n",
    "                # Get the full path to the data.json file\n",
    "                data_file_path = os.path.join(root, file)\n",
    "\n",
    "                # Read the JSON data from the file\n",
    "                with open(data_file_path, 'r') as f:\n",
    "                    try:\n",
    "                        data = json.load(f)\n",
    "                        # Check if the 'label' field is empty (i.e., \"\")\n",
    "                        if data.get(\"shearVain20cm\", \"\").strip() == \"\":\n",
    "                            # If label is empty, collect the timestamp\n",
    "                            timestamps_with_empty_labels.append(data.get(\"timestamp\", \"No Timestamp\"))\n",
    "                    except json.JSONDecodeError as e:\n",
    "                        print(f\"Error reading {data_file_path}: {e}\")\n",
    "\n",
    "    # Output the collected timestamps\n",
    "    if timestamps_with_empty_labels:\n",
    "        print(\"Timestamps for data with empty labels:\")\n",
    "        for timestamp in timestamps_with_empty_labels:\n",
    "            print(timestamp)\n",
    "    else:\n",
    "        print(\"No entries with empty labels found.\")"
   ]
  },
  {
   "cell_type": "markdown",
   "id": "6348f6c8",
   "metadata": {},
   "source": [
    "executes the above function "
   ]
  },
  {
   "cell_type": "code",
   "execution_count": null,
   "id": "79553f7b",
   "metadata": {},
   "outputs": [],
   "source": [
    "if __name__ == \"__main__\":\n",
    "    # Define the base folder where your data files are located\n",
    "    base_folder = 'MT_WELD_OUTPUT'  # Update this path to your folder\n",
    "\n",
    "    # Find and output timestamps for entries with empty labels\n",
    "    find_empty_labels_and_output_timestamps(base_folder)"
   ]
  }
 ],
 "metadata": {
  "kernelspec": {
   "display_name": "Python 3 (ipykernel)",
   "language": "python",
   "name": "python3"
  },
  "language_info": {
   "codemirror_mode": {
    "name": "ipython",
    "version": 3
   },
   "file_extension": ".py",
   "mimetype": "text/x-python",
   "name": "python",
   "nbconvert_exporter": "python",
   "pygments_lexer": "ipython3",
   "version": "3.7.16"
  }
 },
 "nbformat": 4,
 "nbformat_minor": 5
}
