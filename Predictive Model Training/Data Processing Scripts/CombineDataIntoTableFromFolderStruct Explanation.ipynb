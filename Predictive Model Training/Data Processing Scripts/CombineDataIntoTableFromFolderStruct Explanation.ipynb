{
 "cells": [
  {
   "cell_type": "markdown",
   "id": "c432651c",
   "metadata": {},
   "source": [
    "CombineDataIntoTableFromFolderStruct\n",
    "\n",
    "This script is used with the output of S1P_File_Finder Script to take that same information and convert it into the csv file instead of the folder structure layout. note that this script is used with the output of S1P_File_finder to produce the outputted CSV.\n"
   ]
  },
  {
   "cell_type": "markdown",
   "id": "9193e2dd",
   "metadata": {},
   "source": [
    "import required librarys "
   ]
  },
  {
   "cell_type": "code",
   "execution_count": null,
   "id": "17422a24",
   "metadata": {},
   "outputs": [],
   "source": [
    "import os\n",
    "import json\n",
    "import pandas as pd"
   ]
  },
  {
   "cell_type": "markdown",
   "id": "9c77af71",
   "metadata": {},
   "source": [
    "this function is used to read the s1p file and load it into the programs memory as a string."
   ]
  },
  {
   "cell_type": "code",
   "execution_count": null,
   "id": "e83079d2",
   "metadata": {},
   "outputs": [],
   "source": [
    "# Function to read the S1P data and format it as a block of text\n",
    "def read_s1p(file_path):\n",
    "    s1p_data = []\n",
    "    with open(file_path, 'r') as f:\n",
    "        # Skip the first three lines of the S1P file (metadata lines)\n",
    "        for _ in range(3):\n",
    "            next(f)\n",
    "        \n",
    "        # Read the frequency, Re(S11), and Im(S11) values\n",
    "        for line in f:\n",
    "            parts = line.split()\n",
    "            frequency = parts[0]\n",
    "            re_s11 = parts[1]\n",
    "            im_s11 = parts[2]\n",
    "            s1p_data.append(f\"{frequency} {re_s11} {im_s11}\")\n",
    "    \n",
    "    # Join the S1P data into a single string (block of text with line breaks)\n",
    "    return \"\\n\".join(s1p_data)"
   ]
  },
  {
   "cell_type": "markdown",
   "id": "f0599ed7",
   "metadata": {},
   "source": [
    "this function is used to load the .json file into memory "
   ]
  },
  {
   "cell_type": "code",
   "execution_count": null,
   "id": "cb81a8d3",
   "metadata": {},
   "outputs": [],
   "source": [
    "# Function to read JSON file and return the metadata\n",
    "def read_json(file_path):\n",
    "    with open(file_path, 'r') as f:\n",
    "        data = json.load(f)\n",
    "    return data"
   ]
  },
  {
   "cell_type": "markdown",
   "id": "5380802e",
   "metadata": {},
   "source": [
    " this function acts as the main body of program.\n",
    " \n",
    " it interates over the folders from the s1p_file_finder program to put the data into csv file rows."
   ]
  },
  {
   "cell_type": "code",
   "execution_count": null,
   "id": "d026a155",
   "metadata": {},
   "outputs": [],
   "source": [
    "# Function to create CSV from folder data\n",
    "def create_csv(data_folder, output_csv):\n",
    "    # List to store rows for the CSV\n",
    "    rows = []\n",
    "    \n",
    "    # Counters for stats\n",
    "    total_samples = 0\n",
    "    skipped_samples = 0\n",
    "    skipped_samples_names = []  # List to store the names of skipped samples\n",
    "    \n",
    "    # Iterate over all sample folders in the data folder\n",
    "    for sample_folder in os.listdir(data_folder):\n",
    "        sample_path = os.path.join(data_folder, sample_folder)\n",
    "        \n",
    "        # Check if it is a directory (a sample folder)\n",
    "        if os.path.isdir(sample_path):\n",
    "            total_samples += 1\n",
    "            \n",
    "            # Define the path for the JSON file\n",
    "            json_file = os.path.join(sample_path, 'data.json')\n",
    "            \n",
    "            # Find the first S1P file in the sample folder (it could have any name ending in .s1p)\n",
    "            s1p_file = None\n",
    "            for file in os.listdir(sample_path):\n",
    "                if file.endswith('.s1p'):\n",
    "                    s1p_file = os.path.join(sample_path, file)\n",
    "                    break\n",
    "            \n",
    "            # If both the JSON and S1P files exist, process the sample\n",
    "            if os.path.exists(json_file) and s1p_file:\n",
    "                # Read the JSON metadata\n",
    "                metadata = read_json(json_file)\n",
    "                \n",
    "                # Skip if latitude or longitude are missing\n",
    "                if not metadata.get('latitude') or not metadata.get('longitude'):\n",
    "                    skipped_samples += 1\n",
    "                    skipped_samples_names.append(sample_folder)  # Add folder name to skipped list\n",
    "                    continue\n",
    "                \n",
    "                # Read the S1P data block as a string\n",
    "                s1p_data = read_s1p(s1p_file)\n",
    "                \n",
    "                # Prepare the row for the sample\n",
    "                row = {\n",
    "                    'Timestamp': metadata['timestamp'],\n",
    "                    'Latitude': metadata['latitude'],\n",
    "                    'Longitude': metadata['longitude'],\n",
    "                    'HeightLabel': metadata['heightLabel'],\n",
    "                    'ShearVain20cm': metadata['shearVain20cm'],\n",
    "                    'ShearVain50cm': metadata['shearVain50cm'],\n",
    "                    'ShearVain80cm': metadata['shearVain80cm'],\n",
    "                    'SurfaceWaterSubmerged': metadata['surfaceWaterSubmerged'],\n",
    "                    'RecentScrollOver': metadata['recentScrollOver'],\n",
    "                    'S1P_Data_Block': s1p_data\n",
    "                }\n",
    "                \n",
    "                # Add the row to the list of rows\n",
    "                rows.append(row)\n",
    "    \n",
    "    # Create a DataFrame from the rows\n",
    "    df = pd.DataFrame(rows)\n",
    "    \n",
    "    # Write the DataFrame to a CSV file\n",
    "    df.to_csv(output_csv, index=False)\n",
    "    \n",
    "    # Print the summary\n",
    "    print(f\"Total samples processed: {total_samples}\")\n",
    "    print(f\"Total samples skipped: {skipped_samples}\")\n",
    "    print(f\"Total rows in CSV: {len(df)}\")\n",
    "    \n",
    "    # Print the names of the skipped samples\n",
    "    if skipped_samples > 0:\n",
    "        print(\"\\nSkipped samples due to missing latitude/longitude:\")\n",
    "        for name in skipped_samples_names:\n",
    "            print(name)"
   ]
  },
  {
   "cell_type": "markdown",
   "id": "2707348d",
   "metadata": {},
   "source": [
    "data folder variable should be the the filepath of the output of S1P_File_Finder output or the conbinded sensor readings and label data into the folder format."
   ]
  },
  {
   "cell_type": "code",
   "execution_count": null,
   "id": "d22b1df3",
   "metadata": {},
   "outputs": [],
   "source": [
    "# Example usage:\n",
    "# Folder containing subfolders for each sample\n",
    "data_folder = r'C:\\Users\\JoshuaPaterson\\Downloads\\Data Processing Scripts\\MT_WELD_OUTPUT'"
   ]
  },
  {
   "cell_type": "markdown",
   "id": "e34346d3",
   "metadata": {},
   "source": [
    "output csv variable is to direct the program where you want the coutputted csv file to be placed from this program."
   ]
  },
  {
   "cell_type": "code",
   "execution_count": null,
   "id": "cbed2714",
   "metadata": {},
   "outputs": [],
   "source": [
    "# Output CSV file\n",
    "output_csv = 'output_samples.csv'"
   ]
  },
  {
   "cell_type": "markdown",
   "id": "0804b14b",
   "metadata": {},
   "source": [
    "Run the above functions."
   ]
  },
  {
   "cell_type": "code",
   "execution_count": null,
   "id": "1fdaabe3",
   "metadata": {},
   "outputs": [],
   "source": [
    "# Create the CSV\n",
    "create_csv(data_folder, output_csv)\n",
    "\n",
    "print(\"CSV file created successfully!\")"
   ]
  }
 ],
 "metadata": {
  "kernelspec": {
   "display_name": "Python 3 (ipykernel)",
   "language": "python",
   "name": "python3"
  },
  "language_info": {
   "codemirror_mode": {
    "name": "ipython",
    "version": 3
   },
   "file_extension": ".py",
   "mimetype": "text/x-python",
   "name": "python",
   "nbconvert_exporter": "python",
   "pygments_lexer": "ipython3",
   "version": "3.7.16"
  }
 },
 "nbformat": 4,
 "nbformat_minor": 5
}
