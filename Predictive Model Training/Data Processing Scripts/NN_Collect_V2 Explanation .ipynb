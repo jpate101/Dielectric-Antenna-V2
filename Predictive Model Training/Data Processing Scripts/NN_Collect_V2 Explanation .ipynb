{
 "cells": [
  {
   "cell_type": "markdown",
   "id": "5a1d7d99",
   "metadata": {},
   "source": [
    "Data Processing Script Manual \n"
   ]
  },
  {
   "attachments": {
    "image.png": {
     "image/png": "[encoded data removed]"
    }
   },
   "cell_type": "markdown",
   "id": "8c63643e",
   "metadata": {},
   "source": [
    "NN_Collect_V2.py \n",
    "\n",
    "This Script is designed to produce a program with a graphical UI to input labeling data when proforming shear vain testing on site to calibrate/train the machine learning algorthm.\n",
    "\n",
    "![image.png](attachment:image.png)"
   ]
  },
  {
   "cell_type": "markdown",
   "id": "4f315aea",
   "metadata": {},
   "source": [
    "import required librarys \n"
   ]
  },
  {
   "cell_type": "code",
   "execution_count": null,
   "id": "ba54ad40",
   "metadata": {},
   "outputs": [],
   "source": [
    "import tkinter as tk\n",
    "from tkinter import messagebox\n",
    "import json\n",
    "import os\n",
    "from datetime import datetime"
   ]
  },
  {
   "cell_type": "markdown",
   "id": "af519026",
   "metadata": {},
   "source": [
    "Every time the submit button in the image above is pressed/clicked it will save a data.json file to the filepath in the section below.  "
   ]
  },
  {
   "cell_type": "code",
   "execution_count": null,
   "id": "e4917426",
   "metadata": {},
   "outputs": [],
   "source": [
    "# Define the hardcoded save directory (you can change this to your desired path)\n",
    "SAVE_DIRECTORY = r\"C:\\Users\\JoshuaPaterson\\Phibion Pty Ltd\\IG88 - General\\03 Development\\Dielectric Antenna\\Predictive Model Training\\Data Processing Scripts\\Data\"  # Replace this with your desired path"
   ]
  },
  {
   "cell_type": "markdown",
   "id": "c0935543",
   "metadata": {},
   "source": [
    "the code below contains the logic of the submit button"
   ]
  },
  {
   "cell_type": "code",
   "execution_count": null,
   "id": "485a8794",
   "metadata": {},
   "outputs": [],
   "source": [
    "# Function to handle button click event\n",
    "def submit_labels():\n",
    "    # Get the input data from the form fields\n",
    "    label_value = command_input.get()\n",
    "    shear_vain_20cm_value = shear_vain_20cm_input.get()\n",
    "    shear_vain_50cm_value = shear_vain_50cm_input.get()\n",
    "    shear_vain_80cm_value = shear_vain_80cm_input.get()\n",
    "    height_value = height_input.get()\n",
    "    surface_water_value = surface_water_input.get()  # Get the new Surface Water input\n",
    "    recent_scroll_over_value = recent_scroll_over_input.get()\n",
    "\n",
    "    # Prepare the data dictionary\n",
    "    data = {\n",
    "        \"label\": label_value,\n",
    "        \"shearVain20cm\": shear_vain_20cm_value,\n",
    "        \"shearVain50cm\": shear_vain_50cm_value,\n",
    "        \"shearVain80cm\": shear_vain_80cm_value,\n",
    "        \"heightLabel\": height_value,\n",
    "        \"surfaceWaterSubmerged\": surface_water_value,  # Include the new Surface Water data\n",
    "        \"recentScrollOver\": recent_scroll_over_value,\n",
    "        \"timestamp\": datetime.utcnow().isoformat()  # Add a timestamp inside the data\n",
    "    }\n",
    "\n",
    "    # Create a unique filename using a timestamp\n",
    "    timestamp_filename = datetime.utcnow().strftime(\"%Y-%m-%d_%H-%M-%S\")\n",
    "    filename = f\"data_{timestamp_filename}.json\"\n",
    "\n",
    "    # Check if the save directory exists, if not, create it\n",
    "    if not os.path.exists(SAVE_DIRECTORY):\n",
    "        os.makedirs(SAVE_DIRECTORY)\n",
    "\n",
    "    # Combine the hardcoded path with the filename\n",
    "    file_path = os.path.join(SAVE_DIRECTORY, filename)\n",
    "\n",
    "    # Save the data to a JSON file\n",
    "    try:\n",
    "        with open(file_path, 'w') as json_file:\n",
    "            json.dump(data, json_file, indent=4)\n",
    "        messagebox.showinfo(\"Success\", f\"Data saved to {file_path}\")\n",
    "    except Exception as e:\n",
    "        messagebox.showerror(\"Error\", f\"Failed to save data: {e}\")"
   ]
  },
  {
   "cell_type": "markdown",
   "id": "f6428735",
   "metadata": {},
   "source": [
    "the below code loads the UI elements into a object. "
   ]
  },
  {
   "cell_type": "code",
   "execution_count": null,
   "id": "b2928f96",
   "metadata": {},
   "outputs": [],
   "source": [
    "# Create the main window\n",
    "root = tk.Tk()\n",
    "root.title(\"Data Collection\")\n",
    "\n",
    "# Set the window size\n",
    "root.geometry(\"400x600\")  # Increased height to accommodate the new input field\n",
    "\n",
    "# Create a label for the main heading\n",
    "label = tk.Label(root, text=\"Data Collection\", font=(\"Helvetica\", 16))\n",
    "label.pack(pady=20)\n",
    "\n",
    "# Create the input fields and labels\n",
    "command_input_label = tk.Label(root, text=\"Enter Label\")\n",
    "command_input_label.pack(pady=(10, 5))\n",
    "\n",
    "command_input = tk.Entry(root, width=30)\n",
    "command_input.pack(pady=5)\n",
    "\n",
    "shear_vain_20cm_label = tk.Label(root, text=\"Shear Vain 20cm Label:\")\n",
    "shear_vain_20cm_label.pack(pady=(10, 5))\n",
    "\n",
    "shear_vain_20cm_input = tk.Entry(root, width=30)\n",
    "shear_vain_20cm_input.pack(pady=5)\n",
    "\n",
    "shear_vain_50cm_label = tk.Label(root, text=\"Shear Vain 50cm Label:\")\n",
    "shear_vain_50cm_label.pack(pady=(10, 5))\n",
    "\n",
    "shear_vain_50cm_input = tk.Entry(root, width=30)\n",
    "shear_vain_50cm_input.pack(pady=5)\n",
    "\n",
    "shear_vain_80cm_label = tk.Label(root, text=\"Shear Vain 80cm Label:\")\n",
    "shear_vain_80cm_label.pack(pady=(10, 5))\n",
    "\n",
    "shear_vain_80cm_input = tk.Entry(root, width=30)\n",
    "shear_vain_80cm_input.pack(pady=5)\n",
    "\n",
    "height_label = tk.Label(root, text=\"Height (CM):\")\n",
    "height_label.pack(pady=(10, 5))\n",
    "\n",
    "height_input = tk.Entry(root, width=30)\n",
    "height_input.pack(pady=5)\n",
    "\n",
    "# Add the new Surface Water (Submerged) input field\n",
    "surface_water_label = tk.Label(root, text=\"Surface Water (Submerged):\")\n",
    "surface_water_label.pack(pady=(10, 5))\n",
    "\n",
    "surface_water_input = tk.Entry(root, width=30)\n",
    "surface_water_input.pack(pady=5)\n",
    "\n",
    "# Add the new Surface Water (Submerged) input field\n",
    "recent_scroll_over_label = tk.Label(root, text=\"recentScrollOver:\")\n",
    "recent_scroll_over_label.pack(pady=(10, 5))\n",
    "\n",
    "recent_scroll_over_input = tk.Entry(root, width=30)\n",
    "recent_scroll_over_input.pack(pady=5)\n",
    "\n",
    "# Create a Submit Button (enabled by default)\n",
    "submit_button = tk.Button(root, text=\"Submit Labels\", command=submit_labels)\n",
    "submit_button.pack(pady=20)\n",
    "\n",
    "# Create a label for loading status (initially hidden)\n",
    "loading_label = tk.Label(root, text=\"Waiting for server response...\", fg=\"blue\")\n",
    "loading_label.pack(pady=10)\n",
    "loading_label.pack_forget()  # Initially hide the loading label\n",
    "\n",
    "# Create an output label (initially empty)\n",
    "output_label = tk.Label(root, text=\"\")\n",
    "output_label.pack(pady=10)"
   ]
  },
  {
   "cell_type": "markdown",
   "id": "81905b74",
   "metadata": {},
   "source": [
    "below code activates the object which will form a UI in the image at the top of the document."
   ]
  },
  {
   "cell_type": "code",
   "execution_count": 3,
   "id": "aae94981",
   "metadata": {},
   "outputs": [],
   "source": [
    "# Start the Tkinter event loop\n",
    "root.mainloop()"
   ]
  },
  {
   "cell_type": "code",
   "execution_count": null,
   "id": "a54c59a5",
   "metadata": {},
   "outputs": [],
   "source": []
  },
  {
   "cell_type": "code",
   "execution_count": null,
   "id": "5b995484",
   "metadata": {},
   "outputs": [],
   "source": []
  }
 ],
 "metadata": {
  "kernelspec": {
   "display_name": "Python 3 (ipykernel)",
   "language": "python",
   "name": "python3"
  },
  "language_info": {
   "codemirror_mode": {
    "name": "ipython",
    "version": 3
   },
   "file_extension": ".py",
   "mimetype": "text/x-python",
   "name": "python",
   "nbconvert_exporter": "python",
   "pygments_lexer": "ipython3",
   "version": "3.7.16"
  }
 },
 "nbformat": 4,
 "nbformat_minor": 5
}
