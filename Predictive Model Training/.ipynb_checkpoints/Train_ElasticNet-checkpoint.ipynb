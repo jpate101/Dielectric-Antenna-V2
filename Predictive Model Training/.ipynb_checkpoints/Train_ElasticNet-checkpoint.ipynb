{
 "cells": [
  {
   "cell_type": "markdown",
   "id": "a67333db",
   "metadata": {},
   "source": [
    "Train_ElasticNet\n",
    "\n",
    "this script is used to train a ElasticNet algorthm and save a model. the purpose of these models is to be used with the Dielectric sensor Python server to produce a kpa prediction from the raw sensor readings (S1P Files).\n",
    "\n",
    "Note that the data used to train the neural network will need to be in the folder structure produce by the S1P_File_Finder Script\n",
    "\n",
    "---\n"
   ]
  },
  {
   "cell_type": "markdown",
   "id": "ae7dfc2e",
   "metadata": {},
   "source": [
    "import required librarys \n",
    "\n",
    "note that unlike the Train_DNN version you do not need to worry about what version of the imported librarys the model is trained with."
   ]
  },
  {
   "cell_type": "code",
   "execution_count": 1,
   "id": "38171de2",
   "metadata": {},
   "outputs": [],
   "source": [
    "import numpy as np\n",
    "import os\n",
    "import joblib  # For saving the model\n",
    "from sklearn.linear_model import ElasticNet\n",
    "from sklearn.model_selection import train_test_split\n",
    "from sklearn.metrics import mean_absolute_error\n",
    "from sklearn.preprocessing import StandardScaler\n",
    "import json"
   ]
  },
  {
   "cell_type": "markdown",
   "id": "fabd4c92",
   "metadata": {},
   "source": [
    "the below function is used to take a s1p file or raw sesnor readings a put the data into four arrays being s11_real, s11_imag, magnitudes, phases. s11_real and s11_imag are taken directly from the s1p file with no modification and magnitudes, phases are derived from these values.\n",
    "\n",
    "thes values are used as input data for training."
   ]
  },
  {
   "cell_type": "code",
   "execution_count": 2,
   "id": "1a91f06c",
   "metadata": {},
   "outputs": [],
   "source": [
    "def read_s_param_file(file_path):\n",
    "    \"\"\"Read S-parameter file and return magnitudes, phases, real, and imaginary components.\"\"\"\n",
    "    s11_real, s11_imag = [], []\n",
    "    \n",
    "    with open(file_path, 'r') as f:\n",
    "        for line in f:\n",
    "            if line.startswith(('!', '#')):  # Skip comments\n",
    "                continue\n",
    "            parts = line.split()\n",
    "            if len(parts) >= 3:\n",
    "                s11_real.append(float(parts[1]))\n",
    "                s11_imag.append(float(parts[2]))\n",
    "\n",
    "    s11_real = np.array(s11_real)\n",
    "    s11_imag = np.array(s11_imag)\n",
    "    \n",
    "    magnitudes = np.sqrt(s11_real**2 + s11_imag**2)\n",
    "    phases = np.arctan2(s11_imag, s11_real)\n",
    "\n",
    "    return s11_real, s11_imag, magnitudes, phases"
   ]
  },
  {
   "cell_type": "markdown",
   "id": "957fc9ea",
   "metadata": {},
   "source": [
    "function below is used to extract the data from the folder that will need to be indicated in the main_folder parameter. data will need to be structured in the same way as the S1P_File_Finder outputs data."
   ]
  },
  {
   "cell_type": "code",
   "execution_count": 3,
   "id": "2dfc55fc",
   "metadata": {},
   "outputs": [],
   "source": [
    "def load_data_from_folders(main_folder, use_cal_data):\n",
    "    \"\"\"Load data from specified main folder and return combined data and labels.\"\"\"\n",
    "    data, labels = [], []\n",
    "    \n",
    "    for sample_folder in os.listdir(main_folder):\n",
    "        sample_path = os.path.join(main_folder, sample_folder)\n",
    "        \n",
    "        if os.path.isdir(sample_path):\n",
    "            json_file_path = os.path.join(sample_path, 'data.json')\n",
    "            s1p_file_paths = [os.path.join(sample_path, f) for f in os.listdir(sample_path) if f.endswith('.s1p')]\n",
    "            \n",
    "            # Read the label from the JSON file\n",
    "            if os.path.exists(json_file_path):\n",
    "                with open(json_file_path, 'r') as json_file:\n",
    "                    json_data = json.load(json_file)\n",
    "                    label = json_data.get('shearVain80cm', None)\n",
    "                    \n",
    "                    # Attempt to convert the label to an integer (or float if necessary)\n",
    "                    if label is not None:\n",
    "                        try:\n",
    "                            label = int(label)  # Try to convert to an integer\n",
    "                        except ValueError:\n",
    "                            try:\n",
    "                                label = float(label)  # Try to convert to a float if it's not an int\n",
    "                            except ValueError:\n",
    "                                print(f\"Warning: Unable to convert label '{label}' to a number.\")\n",
    "                                label = None  # Set to None if conversion fails\n",
    "                    \n",
    "                    labels.append(label)\n",
    "            else:\n",
    "                print(f\"Warning: '{json_file_path}' not found.\")\n",
    "\n",
    "            # Read the first valid S-parameter file\n",
    "            if s1p_file_paths:\n",
    "                s11_real, s11_imag, magnitudes, phases = read_s_param_file(s1p_file_paths[0])\n",
    "                sample_data = np.concatenate([s11_real, s11_imag, magnitudes, phases])\n",
    "                \n",
    "                if use_cal_data:\n",
    "                    # Check for calibration data\n",
    "                    cal_file_path = os.path.join(sample_path, 'Cal_data.s1p')\n",
    "                    if os.path.exists(cal_file_path):\n",
    "                        cal_real, cal_imag, cal_magnitudes, cal_phases = read_s_param_file(cal_file_path)\n",
    "                        cal_data = np.concatenate([cal_real, cal_imag, cal_magnitudes, cal_phases])\n",
    "                        sample_data = np.concatenate([sample_data, cal_data])\n",
    "                    else:\n",
    "                        print(f\"Warning: Calibration data not found in '{sample_path}'. Using sample data without calibration.\")\n",
    "\n",
    "                data.append(sample_data)\n",
    "                #print(f\"Loaded sample data with shape: {sample_data.shape}\")  # Debugging output\n",
    "            else:\n",
    "                print(f\"Warning: No valid .s1p file found in '{sample_path}'.\")\n",
    "\n",
    "    return np.array(data, dtype=float), np.array(labels)"
   ]
  },
  {
   "cell_type": "markdown",
   "id": "4294092d",
   "metadata": {},
   "source": [
    "the main_folder variable is a string of the file path to the folder where the training data is stored. this will be the data outputted from the S1P_File_Finder. an ecample of how the data should be structured can be found at this location \"IG88 - General\\03 Development\\Dielectric Antenna\\Archive File\\Predictive Model Training Guide and FIles Archive 06012025\\3_Output_Training_Data\""
   ]
  },
  {
   "cell_type": "code",
   "execution_count": 4,
   "id": "c52ffc2d",
   "metadata": {},
   "outputs": [],
   "source": [
    "# Example usage\n",
    "main_folder = r'C:\\Users\\JoshuaPaterson\\Phibion Pty Ltd\\IG88 - General\\03 Development\\Dielectric Antenna\\Predictive Model Training\\Data Processing Scripts\\MT_WELD_OUTPUT'"
   ]
  },
  {
   "cell_type": "markdown",
   "id": "c7ad8fdf",
   "metadata": {},
   "source": [
    "the variable use_cal_data should always be false this is no longer used as calibration data is no longer used as part of the dielectric sensor."
   ]
  },
  {
   "cell_type": "code",
   "execution_count": 5,
   "id": "3fb6546c",
   "metadata": {},
   "outputs": [],
   "source": [
    "use_cal_data = False  # Set to True if you want to include calibration data"
   ]
  },
  {
   "cell_type": "markdown",
   "id": "1126696a",
   "metadata": {},
   "source": [
    "this line calls the function above and puts the data from the s1p_File_finder Script into variables to be used for the rest of the function."
   ]
  },
  {
   "cell_type": "code",
   "execution_count": 6,
   "id": "b91efb30",
   "metadata": {},
   "outputs": [
    {
     "name": "stdout",
     "output_type": "stream",
     "text": [
      "Loaded 91 samples.\n",
      "Shape of data: (91, 724)\n",
      "Shape of labels: (91,)\n"
     ]
    }
   ],
   "source": [
    "# Load data\n",
    "data, labels = load_data_from_folders(main_folder, use_cal_data)\n",
    "\n",
    "# Check the loaded data shape\n",
    "print(f\"Loaded {len(data)} samples.\")\n",
    "print(f\"Shape of data: {data.shape}\")\n",
    "print(f\"Shape of labels: {labels.shape}\")\n"
   ]
  },
  {
   "cell_type": "markdown",
   "id": "fd637119",
   "metadata": {},
   "source": [
    "the below cell splits the data into a training and testing set"
   ]
  },
  {
   "cell_type": "code",
   "execution_count": 7,
   "id": "80a4508e",
   "metadata": {},
   "outputs": [
    {
     "name": "stdout",
     "output_type": "stream",
     "text": [
      "Training data shape: (72, 724)\n",
      "Test data shape: (19, 724)\n"
     ]
    }
   ],
   "source": [
    "# Split the data into training and testing sets\n",
    "X_train, X_test, y_train, y_test = train_test_split(data, labels, test_size=0.0)\n",
    "\n",
    "print(f\"Training data shape: {X_train.shape}\")\n",
    "print(f\"Test data shape: {X_test.shape}\")"
   ]
  },
  {
   "cell_type": "markdown",
   "id": "beefd1dd",
   "metadata": {},
   "source": [
    "below is a example of how the data needs to be structured for 1 sample. X train and y train variables will be used for training  note that the data is structured in a arrary format so the data will need to be in the form of [sample,sample] for example the same goes for y train. X and y test will be in the same form"
   ]
  },
  {
   "cell_type": "code",
   "execution_count": 8,
   "id": "055a5bdf",
   "metadata": {},
   "outputs": [
    {
     "name": "stdout",
     "output_type": "stream",
     "text": [
      "[-1.96439211e-01 -7.94562306e-01 -2.06744005e-01 -7.11642125e-01\n",
      "  4.61706576e-01  5.81925184e-01  5.54538675e-01  5.80055208e-03\n",
      " -4.22811799e-01 -3.79112952e-01 -2.14190834e-01 -3.31314820e-01\n",
      "  2.53479325e-02  9.07793804e-03 -3.55114421e-01  1.74686912e-01\n",
      " -3.99944741e-01 -3.01687367e-01 -1.07829630e-01 -3.12400520e-01\n",
      "  1.23515889e-01 -4.78416990e-02  1.81992411e-01  2.07188363e-02\n",
      "  9.32367361e-02  3.77641574e-02  4.00189256e-02  3.10819927e-02\n",
      "  5.67522281e-02  2.63767666e-03 -9.08011231e-02  4.01870144e-02\n",
      "  5.96779770e-02  1.13074587e-02  1.37001083e-01 -1.95172521e-01\n",
      "  2.50132115e-01  6.75044675e-02 -1.65187565e-01  3.74753932e-02\n",
      " -2.47239767e-01 -2.41486217e-01  1.41989965e-01  6.87579438e-03\n",
      " -3.89189248e-01 -3.93603572e-01 -3.92649053e-01 -2.52552043e-01\n",
      "  2.56095269e-01  2.14189460e-01  3.81743196e-01  5.16768959e-02\n",
      " -2.15589304e-01  2.77298513e-02 -1.68751941e-01 -6.69592537e-02\n",
      " -3.74164178e-02 -1.79605985e-02  1.23026297e-01 -4.79730504e-02\n",
      "  7.47609145e-02  5.09226260e-02 -2.09867888e-02  1.71212325e-02\n",
      " -4.29848784e-03  2.92549655e-03 -4.21389915e-02  4.61876432e-02\n",
      "  6.12911459e-02 -4.00429596e-02  1.17433275e-01 -1.52333886e-01\n",
      "  1.38029214e-01  1.27588966e-01  4.76154276e-02  2.91161308e-01\n",
      " -4.23777218e-02 -3.20430290e-01  2.19702077e-01  1.29611257e-01\n",
      " -4.19977031e-01 -9.17434495e-02  9.63146386e-02  4.07193416e-01\n",
      "  3.46207109e-01 -1.64881790e-01 -3.93576405e-01 -3.12439830e-01\n",
      " -1.19435944e-01  3.21921152e-01  2.65142611e-01  4.68966740e-02\n",
      "  2.42799216e-01  2.98819919e-01 -3.15609630e-02 -3.54466236e-01\n",
      "  6.04047792e-02  1.07016309e-02  2.51820977e-01 -5.19729308e-01\n",
      "  2.47442361e-01  4.83215434e-01 -5.24040681e-01 -1.10017075e-02\n",
      "  4.26702854e-01 -5.19743913e-01  4.46544531e-01 -1.61848109e-01\n",
      " -2.73551836e-01  6.84417815e-01 -6.58860293e-01  3.37741739e-01\n",
      "  6.12262408e-01 -4.03946130e-01  1.82948829e-01 -1.57261127e-01\n",
      "  2.17824505e-01 -2.13216759e-01  2.91473319e-01 -3.50915604e-01\n",
      "  3.53710756e-01 -3.13764570e-01  1.25594550e-01 -2.66582481e-02\n",
      " -5.40306132e-02 -1.20181449e-01  2.71393920e-01 -3.25527126e-01\n",
      " -3.51616984e-01 -3.15057926e-01 -1.54211499e-01  1.65352325e-01\n",
      "  1.93405433e-01 -3.16477893e-01  3.30950708e-01 -1.44736346e-01\n",
      " -2.25196497e-01  2.28640444e-01 -1.49984948e-01 -2.20049502e-01\n",
      " -2.26267099e-01 -9.51348015e-02  1.20997634e-01  6.19707389e-03\n",
      " -9.89002045e-02 -7.25376291e-02 -4.74335221e-02 -2.70073860e-02\n",
      "  2.89507800e-02  2.92993876e-02  3.46225156e-02 -4.12852157e-02\n",
      "  2.00821610e-02  1.29940826e-02  8.64039207e-02  4.89424111e-02\n",
      " -2.35727494e-03  7.73426195e-02  1.51148038e-01  1.54104513e-01\n",
      " -1.07701169e-01 -9.50624598e-02  1.19176785e-01  1.74559693e-01\n",
      "  1.37711199e-01  1.70699364e-01 -3.33844465e-02 -2.08433129e-02\n",
      " -1.46064046e-01 -3.63975467e-02 -2.85012873e-02 -7.65674521e-02\n",
      " -7.87051494e-02 -1.23928903e-01 -1.07646709e-01 -1.32285233e-01\n",
      "  4.41080822e-02  1.21196599e-01  1.37131235e-01  1.93307558e-02\n",
      " -1.11636064e-01 -8.05002739e-01 -2.57733053e-01  7.47655168e-01\n",
      "  7.61217404e-02 -4.77967187e-01 -2.35349142e-01 -5.96172555e-02\n",
      "  4.98345151e-01  1.59259216e-01 -8.93280763e-02  2.86964106e-01\n",
      "  1.43971371e-01 -3.99671575e-01  4.39926627e-01 -2.90044358e-01\n",
      " -4.01238489e-01 -1.40570727e-01 -2.41866653e-01 -3.55196417e-01\n",
      "  7.92561327e-02 -2.58179552e-01  2.30844424e-01 -1.36477282e-02\n",
      " -1.50959805e-01 -4.85313120e-02 -7.55070547e-02  4.05364190e-02\n",
      " -2.73935227e-02  2.11253199e-02 -7.48285016e-02 -1.29756504e-02\n",
      "  1.02126364e-01  1.02587009e-01  1.54027182e-01 -1.28111744e-01\n",
      "  1.04676650e-01 -4.67651349e-02 -2.72267449e-01  2.47540850e-01\n",
      "  3.14739540e-01 -2.13329202e-01  2.43549240e-01  3.38279703e-01\n",
      " -3.86429323e-01  2.63102494e-02 -1.34110209e-02  9.29144697e-02\n",
      "  3.21359110e-01  3.10686488e-01  3.26583351e-01  1.09163024e-03\n",
      " -3.62304270e-01  2.75542048e-01 -3.14268780e-01  2.25349872e-01\n",
      " -2.29240941e-01 -1.96212237e-01  1.63253008e-01  4.58522185e-02\n",
      " -9.61304197e-02  2.49863034e-02 -2.91661060e-02  3.79192038e-02\n",
      "  1.85982798e-02 -1.01826573e-02 -2.50347112e-02  1.12170332e-02\n",
      "  3.85824892e-02 -4.20530805e-02  8.41162584e-02  4.85335397e-02\n",
      " -6.44218778e-02 -1.57175528e-01 -2.21855745e-01 -2.85830451e-01\n",
      "  1.16823515e-01 -3.31057801e-01 -1.70112027e-01  3.22794951e-01\n",
      " -3.86237739e-01 -1.15384529e-02  4.13107134e-01  4.14233371e-01\n",
      "  1.22823034e-01 -2.39473252e-01 -3.79535553e-01 -5.49477823e-02\n",
      "  2.14084381e-01 -3.32561624e-01 -9.90545651e-02  1.95871145e-01\n",
      "  3.24278532e-01  2.31135581e-01 -1.57910074e-01 -3.47243142e-01\n",
      "  7.77590563e-02  3.85628186e-01 -4.29920303e-01  3.99351129e-01\n",
      "  7.98129849e-03 -5.10681449e-01  3.77929636e-01  3.90334069e-01\n",
      " -6.85425016e-01  5.67838912e-01 -5.06776825e-01  5.82396247e-01\n",
      " -7.15846358e-01  6.73750187e-01 -2.01187619e-01 -2.09963256e-01\n",
      "  5.71375562e-01  1.54332444e-01 -4.34816577e-01  5.22687313e-01\n",
      " -4.89014743e-01  4.18921221e-01 -3.78082008e-01  2.74579581e-01\n",
      " -1.29873899e-01  3.72205743e-02  1.47303037e-01 -3.18029327e-01\n",
      "  3.39602329e-01 -3.40015011e-01  3.27514838e-01 -2.29110712e-01\n",
      " -1.41534611e-01  3.07698997e-02 -1.59072033e-01 -3.19900045e-01\n",
      " -3.10945209e-01  2.86313791e-01 -1.20315975e-01 -4.44832607e-02\n",
      "  2.92739658e-01 -2.21858069e-01 -2.00444736e-01  2.42559786e-01\n",
      "  1.42143578e-01  4.57244565e-02 -1.73587842e-01 -1.13331884e-01\n",
      "  1.33564148e-01 -4.23596598e-02  4.39637983e-02  4.14668652e-02\n",
      " -3.47972780e-02 -2.10202916e-02  2.06309700e-02 -2.53455834e-02\n",
      "  3.51402746e-02 -6.61600691e-02  8.20299244e-02  3.73381843e-02\n",
      "  9.74308948e-02  1.24777532e-01  1.17204713e-01 -1.16761900e-02\n",
      " -5.46709976e-02 -1.34713973e-01 -1.45932725e-01 -1.32413218e-01\n",
      " -5.23838898e-02 -1.15946617e-01 -2.47251745e-02  1.60019704e-01\n",
      " -1.53465198e-01 -1.16585767e-02  1.30165727e-01 -1.20636108e-01\n",
      "  9.82066730e-02  9.57873357e-02  6.64858567e-04 -6.85122302e-02\n",
      "  1.77000173e-02 -1.30483167e-01  7.02378943e-02 -7.38829122e-03\n",
      " -1.27812844e-01  2.50705069e-03  8.28624024e-01  8.35317655e-01\n",
      "  7.75713435e-01  7.15701777e-01  6.64549166e-01  6.27715014e-01\n",
      "  5.57734130e-01  4.98378908e-01  4.51811150e-01  3.89494718e-01\n",
      "  3.58086737e-01  3.61244052e-01  4.00474576e-01  4.40020279e-01\n",
      "  4.58510612e-01  4.37616090e-01  4.23929151e-01  3.86671366e-01\n",
      "  3.71203076e-01  3.22297408e-01  2.86204220e-01  2.35749817e-01\n",
      "  1.82503419e-01  1.52374974e-01  1.05111261e-01  8.44242080e-02\n",
      "  5.69624058e-02  4.14306089e-02  6.05565400e-02  7.48749758e-02\n",
      "  9.17235600e-02  1.09748760e-01  1.18682583e-01  1.54441676e-01\n",
      "  1.87568430e-01  2.21471249e-01  2.54466211e-01  2.80510993e-01\n",
      "  2.97596042e-01  3.16962747e-01  3.26552983e-01  3.42974963e-01\n",
      "  3.66870969e-01  3.86490489e-01  3.90077557e-01  3.93831979e-01\n",
      "  4.03492723e-01  4.08722659e-01  4.02629955e-01  3.90555771e-01\n",
      "  3.81744757e-01  3.65971154e-01  3.49860213e-01  3.15489795e-01\n",
      "  2.81531139e-01  2.38819912e-01  1.99747917e-01  1.64238021e-01\n",
      "  1.31293167e-01  1.07435893e-01  7.88258187e-02  5.86836909e-02\n",
      "  4.33394891e-02  2.52790944e-02  1.10527601e-02  2.52050649e-02\n",
      "  4.36063808e-02  6.01822803e-02  7.43307887e-02  9.31610624e-02\n",
      "  1.27067221e-01  1.65395862e-01  2.09179852e-01  2.55927560e-01\n",
      "  2.89769349e-01  3.13723829e-01  3.33759103e-01  3.62785987e-01\n",
      "  3.90468415e-01  4.07404798e-01  4.20135505e-01  4.23171791e-01\n",
      "  4.25283194e-01  4.25313973e-01  4.20959381e-01  4.13803384e-01\n",
      "  3.97393565e-01  3.78748953e-01  3.53358428e-01  3.36816025e-01\n",
      "  3.29645430e-01  3.27652048e-01  3.35223979e-01  3.37977715e-01\n",
      "  3.48674482e-01  3.62895004e-01  3.90330418e-01  4.30053475e-01\n",
      "  4.72117706e-01  5.19790588e-01  5.67470937e-01  6.13455757e-01\n",
      "  6.53436547e-01  6.85513304e-01  7.10293148e-01  7.25917686e-01\n",
      "  7.33885145e-01  7.33914722e-01  7.27165677e-01  7.13375219e-01\n",
      "  6.91506655e-01  6.63731508e-01  6.31414095e-01  5.93496362e-01\n",
      "  5.53780012e-01  5.13679356e-01  4.72167877e-01  4.34059202e-01\n",
      "  4.00438062e-01  3.74177753e-01  3.55663703e-01  3.46621393e-01\n",
      "  3.41930759e-01  3.40647037e-01  3.44281157e-01  3.48868957e-01\n",
      "  3.55170914e-01  3.54964725e-01  3.52960749e-01  3.52938250e-01\n",
      "  3.55129871e-01  3.52176539e-01  3.45515916e-01  3.38576713e-01\n",
      "  3.33926836e-01  3.26565640e-01  3.16124130e-01  3.04063389e-01\n",
      "  2.85185439e-01  2.61966754e-01  2.30840911e-01  1.97947895e-01\n",
      "  1.65784629e-01  1.33707836e-01  1.07589922e-01  8.48205353e-02\n",
      "  6.30034914e-02  4.40482628e-02  3.57770921e-02  3.58342160e-02\n",
      "  4.29082414e-02  5.42153847e-02  6.91407834e-02  8.30527223e-02\n",
      "  9.41263912e-02  1.09032742e-01  1.24799797e-01  1.40423736e-01\n",
      "  1.51598360e-01  1.63514889e-01  1.72474335e-01  1.74164381e-01\n",
      "  1.78147036e-01  1.82250263e-01  1.80022199e-01  1.72480744e-01\n",
      "  1.63465063e-01  1.54874177e-01  1.46528591e-01  1.35158788e-01\n",
      "  1.23957226e-01  1.24527609e-01  1.23974652e-01  1.23930687e-01\n",
      "  1.27599921e-01  1.33464128e-01  1.37736632e-01  1.40078469e-01\n",
      "  1.37330122e-01  1.29266396e-01  1.11664211e-01 -1.81014175e+00\n",
      " -2.82792967e+00  1.84057810e+00  3.03503152e+00 -8.02700965e-01\n",
      " -3.84321183e-01 -1.07096500e-01  1.55915722e+00  2.78136138e+00\n",
      " -2.91018952e+00  2.21199130e+00  2.73166473e+00 -1.50745925e+00\n",
      "  1.55016414e+00 -2.45671356e+00 -1.16017569e+00 -2.80360408e+00\n",
      " -2.46580813e+00 -1.86553196e+00  2.89313432e+00 -1.12456875e+00\n",
      "  1.77514987e+00 -7.48505446e-02 -1.43440111e+00 -4.79926213e-01\n",
      " -1.10703610e+00  7.91822147e-01 -7.22404450e-01  3.56346747e-01\n",
      " -1.53556129e+00 -2.99965177e+00  1.19590347e+00  1.04391872e+00\n",
      "  1.49751568e+00 -7.51880322e-01  2.64930609e+00 -1.84827918e-01\n",
      " -1.32776270e+00  2.15924720e+00  1.45228632e+00 -2.42968943e+00\n",
      "  2.35194117e+00  1.17338826e+00 -1.55300506e+00  3.07409264e+00\n",
      " -3.10753342e+00  2.90923192e+00  2.23687253e+00  8.81419841e-01\n",
      "  9.90320108e-01  2.85958539e-03 -1.42911799e+00  2.23472477e+00\n",
      " -1.48278815e+00  2.21355730e+00 -1.85498161e+00 -1.75922762e+00\n",
      "  1.68037260e+00  3.56754976e-01 -2.03367669e+00  3.22544859e-01\n",
      " -5.20144244e-01  2.07629262e+00  8.26725891e-01 -1.97024044e+00\n",
      " -1.45446632e+00  2.88143412e+00  6.95922687e-01 -6.01349654e-01\n",
      "  2.01509535e+00  3.91907180e-01 -2.74150275e+00 -8.50165195e-01\n",
      " -1.04888782e+00 -1.40572588e+00  3.81568826e-01 -1.69811097e+00\n",
      " -2.65354245e+00  9.73192914e-01 -1.24703073e+00 -3.11412555e+00\n",
      "  1.78933116e+00  1.34234252e+00  2.92954427e-01 -6.05137253e-01\n",
      " -1.98062743e+00 -3.00287779e+00  2.54086746e+00 -1.91558973e+00\n",
      " -2.98504332e-01  6.36254925e-01  1.42717357e+00  7.60792919e-01\n",
      " -4.86144284e-01 -1.66143738e+00  2.92564389e+00  1.41541895e+00\n",
      " -1.54590934e+00  1.00819781e+00  3.12623722e+00 -1.11959816e+00\n",
      "  6.63739399e-01  2.50139279e+00 -1.58684588e+00  9.26367521e-01\n",
      " -2.36882589e+00  9.16669546e-01 -1.79315120e+00  1.95647619e+00\n",
      " -2.85901173e-01 -2.83309078e+00  1.03694451e+00  2.46925116e-01\n",
      " -2.31940635e+00  1.23410741e+00 -1.88193883e+00  1.09130434e+00\n",
      " -2.08428139e+00  7.55562217e-01 -2.78712469e+00  1.04843002e-01\n",
      "  2.70266600e+00 -1.19468125e+00  1.64913411e+00 -1.72838525e+00\n",
      "  1.92249053e+00 -7.01117137e-01 -2.73146253e+00  3.05430531e+00\n",
      " -2.67403454e+00 -2.01999043e+00 -1.08205443e+00  9.76702125e-01\n",
      " -2.77829552e+00 -1.33609765e-01  2.02996999e+00 -2.36366196e+00\n",
      " -7.19781283e-01  2.12459367e+00  2.56806146e+00  2.94219619e+00\n",
      " -2.07214112e+00 -7.52696275e-01  1.52443184e+00 -2.73692420e+00\n",
      "  2.59671262e+00  2.42321019e+00 -2.23081512e+00 -6.28009161e-01\n",
      "  6.13501350e-01 -6.31916999e-01  2.43642623e+00 -1.27609592e+00\n",
      "  1.41369506e+00  4.07898755e-01  1.10528687e+00  1.58968590e+00\n",
      "  9.87497560e-01 -7.70969100e-02 -3.40914119e-01 -2.24522030e+00\n",
      " -2.14816416e+00 -8.37960827e-01 -2.91540788e-01 -6.99804877e-01\n",
      " -1.43845902e-01  1.77647324e+00 -1.70578818e+00 -3.06194326e+00\n",
      "  1.84345694e+00 -1.80280044e+00  2.23300890e+00  2.25860904e+00\n",
      "  3.13622787e+00 -2.57479878e+00  3.00858075e+00 -1.24481885e+00\n",
      "  5.25237152e-01 -5.38254815e-02 -1.42069128e+00  3.11913907e+00]\n"
     ]
    }
   ],
   "source": [
    "print(X_train[0])"
   ]
  },
  {
   "cell_type": "code",
   "execution_count": 9,
   "id": "1d33f835",
   "metadata": {},
   "outputs": [
    {
     "name": "stdout",
     "output_type": "stream",
     "text": [
      "120\n"
     ]
    }
   ],
   "source": [
    "print(y_train[0])"
   ]
  },
  {
   "cell_type": "markdown",
   "id": "5a5f8db1",
   "metadata": {},
   "source": [
    "the below cell is used to check that there isnt any incompadible labelds given within the dataset."
   ]
  },
  {
   "cell_type": "code",
   "execution_count": 10,
   "id": "23b986bf",
   "metadata": {},
   "outputs": [],
   "source": [
    "# Ensure that labels are numeric\n",
    "y_train = np.array(y_train, dtype=float)\n",
    "y_test = np.array(y_test, dtype=float)\n",
    "\n",
    "# Check for NaN or infinite values in the labels\n",
    "if np.any(np.isnan(y_train)):\n",
    "    print(\"Warning: y_train contains NaN values\")\n",
    "    # Remove samples with NaN in labels (ensure X_train and y_train have the same number of samples)\n",
    "    valid_indices_train = ~np.isnan(y_train)\n",
    "    y_train = y_train[valid_indices_train]\n",
    "    X_train = X_train[valid_indices_train]\n",
    "\n",
    "if np.any(np.isnan(y_test)):\n",
    "    print(\"Warning: y_test contains NaN values\")\n",
    "    valid_indices_test = ~np.isnan(y_test)\n",
    "    y_test = y_test[valid_indices_test]\n",
    "    X_test = X_test[valid_indices_test]\n",
    "\n",
    "if np.any(np.isinf(y_train)):\n",
    "    print(\"Warning: y_train contains infinite values\")\n",
    "    y_train = np.nan_to_num(y_train, posinf=1e10, neginf=-1e10)\n",
    "\n",
    "if np.any(np.isinf(y_test)):\n",
    "    print(\"Warning: y_test contains infinite values\")\n",
    "    y_test = np.nan_to_num(y_test, posinf=1e10, neginf=-1e10)"
   ]
  },
  {
   "cell_type": "markdown",
   "id": "0ca439a3",
   "metadata": {},
   "source": [
    "elasticNet models work better generally if the data is normalised before training and predicting. the cell below does this to the data"
   ]
  },
  {
   "cell_type": "code",
   "execution_count": 11,
   "id": "ed6a061b",
   "metadata": {},
   "outputs": [],
   "source": [
    "# Normalize the data using StandardScaler\n",
    "scaler = StandardScaler()\n",
    "X_train = scaler.fit_transform(X_train)\n",
    "X_test = scaler.transform(X_test)"
   ]
  },
  {
   "cell_type": "markdown",
   "id": "803ffb3c",
   "metadata": {},
   "source": [
    "Initializes ElasticNet model for training\n",
    "\n",
    "param have the following affect -\n",
    "\n",
    "alpha: Controls the strength of regularization. Higher values increase regularization (simpler models).\n",
    "l1_ratio: Controls the balance between L1 (Lasso) and L2 (Ridge) regularization. It dictates whether the model should be more like Lasso (sparse) or more like Ridge (smooth coefficients).\n",
    "max_iter: Sets the maximum number of iterations for the optimization algorithm to converge, ensuring that the model finds the best fit within the given time or resources"
   ]
  },
  {
   "cell_type": "code",
   "execution_count": 12,
   "id": "a039d021",
   "metadata": {},
   "outputs": [],
   "source": [
    "# Initialize ElasticNet model\n",
    "elasticnet_model = ElasticNet(alpha=0.1, l1_ratio=0.9, max_iter=5000)"
   ]
  },
  {
   "cell_type": "markdown",
   "id": "aae3fb69",
   "metadata": {},
   "source": [
    "Train Model on Data"
   ]
  },
  {
   "cell_type": "code",
   "execution_count": 13,
   "id": "bdbcf322",
   "metadata": {},
   "outputs": [
    {
     "data": {
      "text/plain": [
       "ElasticNet(alpha=0.1, l1_ratio=0.9, max_iter=5000)"
      ]
     },
     "execution_count": 13,
     "metadata": {},
     "output_type": "execute_result"
    }
   ],
   "source": [
    "# Train the ElasticNet model\n",
    "elasticnet_model.fit(X_train, y_train)"
   ]
  },
  {
   "cell_type": "markdown",
   "id": "62816164",
   "metadata": {},
   "source": [
    "make predictions on training and prediction test "
   ]
  },
  {
   "cell_type": "code",
   "execution_count": 14,
   "id": "d0451edd",
   "metadata": {},
   "outputs": [],
   "source": [
    "# Make predictions\n",
    "y_pred_train = elasticnet_model.predict(X_train)\n",
    "y_pred_test = elasticnet_model.predict(X_test)"
   ]
  },
  {
   "cell_type": "markdown",
   "id": "3b4236dd",
   "metadata": {},
   "source": [
    "Evaluate the model"
   ]
  },
  {
   "cell_type": "code",
   "execution_count": 15,
   "id": "06c53bc8",
   "metadata": {},
   "outputs": [
    {
     "name": "stdout",
     "output_type": "stream",
     "text": [
      "Training Mean Absolute Error: 0.54\n",
      "Test Mean Absolute Error: 30.57\n"
     ]
    }
   ],
   "source": [
    "# Evaluate the model\n",
    "train_mae = mean_absolute_error(y_train, y_pred_train)\n",
    "test_mae = mean_absolute_error(y_test, y_pred_test)\n",
    "\n",
    "print(f\"Training Mean Absolute Error: {train_mae:.2f}\")\n",
    "print(f\"Test Mean Absolute Error: {test_mae:.2f}\")"
   ]
  },
  {
   "cell_type": "markdown",
   "id": "290dd84a",
   "metadata": {},
   "source": [
    "save the model to file"
   ]
  },
  {
   "cell_type": "code",
   "execution_count": 16,
   "id": "7edb635d",
   "metadata": {},
   "outputs": [
    {
     "name": "stdout",
     "output_type": "stream",
     "text": [
      "Model and scaler saved as 'elasticnet_model.pkl' and 'scaler.pkl'\n",
      "ElasticNet Model training complete!\n"
     ]
    }
   ],
   "source": [
    "# Save the trained model and scaler\n",
    "joblib.dump(elasticnet_model, '80_EN_MT_WELD_T12.pkl')\n",
    "joblib.dump(scaler, '80_EN_MT_WELD_T12_scaler.pkl')\n",
    "print(\"Model and scaler saved as 'elasticnet_model.pkl' and 'scaler.pkl'\")\n",
    "\n",
    "print(\"ElasticNet Model training complete!\")"
   ]
  }
 ],
 "metadata": {
  "kernelspec": {
   "display_name": "Python 3 (ipykernel)",
   "language": "python",
   "name": "python3"
  },
  "language_info": {
   "codemirror_mode": {
    "name": "ipython",
    "version": 3
   },
   "file_extension": ".py",
   "mimetype": "text/x-python",
   "name": "python",
   "nbconvert_exporter": "python",
   "pygments_lexer": "ipython3",
   "version": "3.7.16"
  }
 },
 "nbformat": 4,
 "nbformat_minor": 5
}
