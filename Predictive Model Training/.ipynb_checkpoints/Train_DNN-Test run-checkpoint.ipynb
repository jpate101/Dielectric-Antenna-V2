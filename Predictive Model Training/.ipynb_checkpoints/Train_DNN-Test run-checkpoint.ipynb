{
 "cells": [
  {
   "cell_type": "markdown",
   "id": "37d54c3f",
   "metadata": {},
   "source": [
    "Train_DNN\n",
    "\n",
    "this script is used to train a Deep Neural Network and save a model. the purpose of these models is to be used with the Dielectric sensor Python server to produce a kpa prediction from the raw sensor readings (S1P Files).\n",
    "\n",
    "Note that the data used to train the neural network will need to be in the folder structure produce by the S1P_File_Finder Script "
   ]
  },
  {
   "cell_type": "markdown",
   "id": "76fdd37e",
   "metadata": {},
   "source": [
    "--\n",
    "\n",
    "\n",
    "import required librarys\n",
    "\n",
    "Note that if required to run on mudmaster VTC's you will need to install specific version of the below librarys. the nessarsary version of tensorflow is version 1.12, this version of sensor flow is on longer supported and you will need to use the tensorflow-1.12.0-cp37-cp37m-win_amd64.whl file to install from. i also recommend that you install the librarys in the order that the pip install command below are ordered. this is due to some librarys also installing the latest version of the librarys which may overwrite the desired version of other librarys.\n",
    "\n",
    "pip install numpy==1.21.6\n",
    "pip install scipy==1.7.3\n",
    "pip install scikit-rf==1.1.0\n",
    "pip install flask==2.2.5\n",
    "pip install pyserial\n",
    "pip install psutil==6.1.0\n",
    "pip install requests==2.31.0\n",
    "pip install matplotlib==3.5.3\n",
    "pip install tensorflow-1.12.0-cp37-cp37m-win_amd64.whl\n",
    "pip install protobuf==3.19.6\n",
    "pip install h5py==2.10.0\n",
    "\n"
   ]
  },
  {
   "cell_type": "code",
   "execution_count": 1,
   "id": "a741b705",
   "metadata": {},
   "outputs": [
    {
     "name": "stderr",
     "output_type": "stream",
     "text": [
      "C:\\Users\\JoshuaPaterson\\anaconda3\\envs\\myenv\\lib\\site-packages\\tensorflow\\python\\framework\\dtypes.py:523: FutureWarning: Passing (type, 1) or '1type' as a synonym of type is deprecated; in a future version of numpy, it will be understood as (type, (1,)) / '(1,)type'.\n",
      "  _np_qint8 = np.dtype([(\"qint8\", np.int8, 1)])\n",
      "C:\\Users\\JoshuaPaterson\\anaconda3\\envs\\myenv\\lib\\site-packages\\tensorflow\\python\\framework\\dtypes.py:524: FutureWarning: Passing (type, 1) or '1type' as a synonym of type is deprecated; in a future version of numpy, it will be understood as (type, (1,)) / '(1,)type'.\n",
      "  _np_quint8 = np.dtype([(\"quint8\", np.uint8, 1)])\n",
      "C:\\Users\\JoshuaPaterson\\anaconda3\\envs\\myenv\\lib\\site-packages\\tensorflow\\python\\framework\\dtypes.py:525: FutureWarning: Passing (type, 1) or '1type' as a synonym of type is deprecated; in a future version of numpy, it will be understood as (type, (1,)) / '(1,)type'.\n",
      "  _np_qint16 = np.dtype([(\"qint16\", np.int16, 1)])\n",
      "C:\\Users\\JoshuaPaterson\\anaconda3\\envs\\myenv\\lib\\site-packages\\tensorflow\\python\\framework\\dtypes.py:526: FutureWarning: Passing (type, 1) or '1type' as a synonym of type is deprecated; in a future version of numpy, it will be understood as (type, (1,)) / '(1,)type'.\n",
      "  _np_quint16 = np.dtype([(\"quint16\", np.uint16, 1)])\n",
      "C:\\Users\\JoshuaPaterson\\anaconda3\\envs\\myenv\\lib\\site-packages\\tensorflow\\python\\framework\\dtypes.py:527: FutureWarning: Passing (type, 1) or '1type' as a synonym of type is deprecated; in a future version of numpy, it will be understood as (type, (1,)) / '(1,)type'.\n",
      "  _np_qint32 = np.dtype([(\"qint32\", np.int32, 1)])\n",
      "C:\\Users\\JoshuaPaterson\\anaconda3\\envs\\myenv\\lib\\site-packages\\tensorflow\\python\\framework\\dtypes.py:532: FutureWarning: Passing (type, 1) or '1type' as a synonym of type is deprecated; in a future version of numpy, it will be understood as (type, (1,)) / '(1,)type'.\n",
      "  np_resource = np.dtype([(\"resource\", np.ubyte, 1)])\n"
     ]
    }
   ],
   "source": [
    "import numpy as np\n",
    "import os\n",
    "import json\n",
    "import matplotlib.pyplot as plt\n",
    "from sklearn.model_selection import train_test_split\n",
    "from tensorflow.keras.models import Sequential\n",
    "from tensorflow.keras.layers import LSTM, Dense, Dropout\n",
    "from tensorflow.keras.callbacks import ModelCheckpoint\n",
    "from tensorflow.keras.models import load_model\n",
    "#note that the red text from running this code is not a error but a warning. you way continue with the warning "
   ]
  },
  {
   "cell_type": "markdown",
   "id": "c37b1cd2",
   "metadata": {},
   "source": [
    "the below function is used to take a s1p file or raw sesnor readings a put the data into four arrays being s11_real, s11_imag, magnitudes, phases. s11_real and s11_imag are taken directly from the s1p file with no modification and magnitudes, phases are derived from these values.\n",
    "\n",
    "thes values are used as input data for training.\n",
    "\n"
   ]
  },
  {
   "cell_type": "code",
   "execution_count": 2,
   "id": "a0b6135a",
   "metadata": {},
   "outputs": [],
   "source": [
    "def read_s_param_file(file_path):\n",
    "    \"\"\"Read S-parameter file and return magnitudes, phases, real, and imaginary components.\"\"\"\n",
    "    s11_real, s11_imag = [], []\n",
    "    \n",
    "    with open(file_path, 'r') as f:\n",
    "        for line in f:\n",
    "            if line.startswith(('!', '#')):  # Skip comments\n",
    "                continue\n",
    "            parts = line.split()\n",
    "            if len(parts) >= 3:\n",
    "                s11_real.append(float(parts[1]))\n",
    "                s11_imag.append(float(parts[2]))\n",
    "\n",
    "    s11_real = np.array(s11_real)\n",
    "    s11_imag = np.array(s11_imag)\n",
    "    \n",
    "    magnitudes = np.sqrt(s11_real**2 + s11_imag**2)\n",
    "    phases = np.arctan2(s11_imag, s11_real)\n",
    "\n",
    "    return s11_real, s11_imag, magnitudes, phases"
   ]
  },
  {
   "cell_type": "markdown",
   "id": "d702a8c0",
   "metadata": {},
   "source": [
    "function below is used to extract the data from the folder that will need to be indicated in the main_folder parameter. data will need to be structured in the same way as the S1P_File_Finder outputs data. "
   ]
  },
  {
   "cell_type": "code",
   "execution_count": 3,
   "id": "cb43baf6",
   "metadata": {},
   "outputs": [],
   "source": [
    "def load_data_from_folders(main_folder, use_cal_data):\n",
    "    \"\"\"Load data from specified main folder and return combined data and labels.\"\"\"\n",
    "    data, labels = [], []\n",
    "    \n",
    "    for sample_folder in os.listdir(main_folder):\n",
    "        sample_path = os.path.join(main_folder, sample_folder)\n",
    "        \n",
    "        if os.path.isdir(sample_path):\n",
    "            json_file_path = os.path.join(sample_path, 'data.json')\n",
    "            s1p_file_paths = [os.path.join(sample_path, f) for f in os.listdir(sample_path) if f.endswith('.s1p')]\n",
    "            \n",
    "            # Read the label from the JSON file\n",
    "            if os.path.exists(json_file_path):\n",
    "                with open(json_file_path, 'r') as json_file:\n",
    "                    json_data = json.load(json_file)\n",
    "                    label = json_data.get('shearVain50cm', None)\n",
    "                    \n",
    "                    # Attempt to convert the label to an integer (or float if necessary)\n",
    "                    if label is not None:\n",
    "                        try:\n",
    "                            label = int(label)  # Try to convert to an integer\n",
    "                        except ValueError:\n",
    "                            try:\n",
    "                                label = float(label)  # Try to convert to a float if it's not an int\n",
    "                            except ValueError:\n",
    "                                print(f\"Warning: Unable to convert label '{label}' to a number.\")\n",
    "                                label = None  # Set to None if conversion fails\n",
    "                    labels.append(label)\n",
    "            else:\n",
    "                print(f\"Warning: '{json_file_path}' not found.\")\n",
    "\n",
    "            # Read the first valid S-parameter file\n",
    "            if s1p_file_paths:\n",
    "                s11_real, s11_imag, magnitudes, phases = read_s_param_file(s1p_file_paths[0])\n",
    "                sample_data = np.concatenate([s11_real, s11_imag, magnitudes, phases])\n",
    "                \n",
    "                if use_cal_data:\n",
    "                    # Check for calibration data\n",
    "                    cal_file_path = os.path.join(sample_path, 'Cal_data.s1p')\n",
    "                    if os.path.exists(cal_file_path):\n",
    "                        cal_real, cal_imag, cal_magnitudes, cal_phases = read_s_param_file(cal_file_path)\n",
    "                        cal_data = np.concatenate([cal_real, cal_imag, cal_magnitudes, cal_phases])\n",
    "                        sample_data = np.concatenate([sample_data, cal_data])\n",
    "                    else:\n",
    "                        print(f\"Warning: Calibration data not found in '{sample_path}'. Using sample data without calibration.\")\n",
    "\n",
    "                data.append(sample_data)\n",
    "                #print(f\"Loaded sample data with shape: {sample_data.shape}\")  # Debugging output\n",
    "            else:\n",
    "                print(f\"Warning: No valid .s1p file found in '{sample_path}'.\")\n",
    "\n",
    "    return np.array(data, dtype=float), np.array(labels)"
   ]
  },
  {
   "cell_type": "markdown",
   "id": "41ebd4b8",
   "metadata": {},
   "source": [
    "the main_folder variable is a string of the file path to the folder where the training data is stored. this will be the data outputted from the S1P_File_Finder. an ecample of how the data should be structured can be found at this location \"IG88 - General\\03 Development\\Dielectric Antenna\\Archive File\\Predictive Model Training Guide and FIles Archive 06012025\\3_Output_Training_Data\""
   ]
  },
  {
   "cell_type": "code",
   "execution_count": 4,
   "id": "504f9f9f",
   "metadata": {},
   "outputs": [],
   "source": [
    "# Example usage\n",
    "main_folder = r'C:\\Users\\JoshuaPaterson\\Phibion Pty Ltd\\IG88 - General\\03 Development\\Dielectric Antenna\\Predictive Model Training\\Data Processing Scripts\\MT_WELD_OUTPUT'"
   ]
  },
  {
   "cell_type": "markdown",
   "id": "0d2e3bb6",
   "metadata": {},
   "source": [
    "the variable use_cal_data should always be false this is no longer used as calibration data is no longer used as part of the dielectric sensor."
   ]
  },
  {
   "cell_type": "code",
   "execution_count": 5,
   "id": "6ea3adc3",
   "metadata": {},
   "outputs": [],
   "source": [
    "use_cal_data = False  # Change this to True if you want to use calibration data"
   ]
  },
  {
   "cell_type": "markdown",
   "id": "65f72ae4",
   "metadata": {},
   "source": [
    "this line calls the function above and puts the data from the s1p_File_finder Script into variables to be used for the rest of the function."
   ]
  },
  {
   "cell_type": "code",
   "execution_count": 6,
   "id": "75db654f",
   "metadata": {},
   "outputs": [
    {
     "name": "stdout",
     "output_type": "stream",
     "text": [
      "Loaded 91 samples.\n"
     ]
    }
   ],
   "source": [
    "data, labels = load_data_from_folders(main_folder, use_cal_data)\n",
    "\n",
    "print(f\"Loaded {len(data)} samples.\")  # Print the number of samples loaded"
   ]
  },
  {
   "cell_type": "markdown",
   "id": "434aba8e",
   "metadata": {},
   "source": [
    "the below cells are used to remove the sample points with none values within them. this due to the fact that a lebel is required to go with the data inorder to use it to train on samples."
   ]
  },
  {
   "cell_type": "code",
   "execution_count": 7,
   "id": "2d72884c",
   "metadata": {},
   "outputs": [],
   "source": [
    "# Remove samples where the label is None\n",
    "filtered_data = []\n",
    "filtered_labels = []"
   ]
  },
  {
   "cell_type": "code",
   "execution_count": 8,
   "id": "0ff5bec6",
   "metadata": {},
   "outputs": [],
   "source": [
    "for sample, label in zip(data, labels):\n",
    "    if label is not None:  # Only include samples with a valid label\n",
    "        filtered_data.append(sample)\n",
    "        filtered_labels.append(label)"
   ]
  },
  {
   "cell_type": "markdown",
   "id": "810097ba",
   "metadata": {},
   "source": [
    "convert or insure data is in the correct format being float values"
   ]
  },
  {
   "cell_type": "code",
   "execution_count": 9,
   "id": "b4a3bad9",
   "metadata": {},
   "outputs": [],
   "source": [
    "# Convert filtered data and labels to numpy arrays\n",
    "X_filtered = np.array(filtered_data, dtype=float)\n",
    "y_filtered = np.array(filtered_labels, dtype=float)"
   ]
  },
  {
   "cell_type": "markdown",
   "id": "eae2a945",
   "metadata": {},
   "source": [
    "the below cell are used to correct data that is not consistance with the majority of the dataset.\n",
    "\n",
    "when the sensor takes a reading it will rarely only produce a smaller range of scanned frequencys than what it will usally do. when this happens the data returned is smaller is the below cells will pad the data with 0 if the data returned is smaller than what is expected."
   ]
  },
  {
   "cell_type": "code",
   "execution_count": 10,
   "id": "821426e6",
   "metadata": {},
   "outputs": [],
   "source": [
    "# Handle varying lengths by padding\n",
    "max_length = max(len(sample) for sample in X_filtered)  # Find the max length"
   ]
  },
  {
   "cell_type": "code",
   "execution_count": 11,
   "id": "5aa2f76a",
   "metadata": {},
   "outputs": [],
   "source": [
    "# Pad samples to ensure uniformity\n",
    "X_padded = np.array([np.pad(sample, (0, max_length - len(sample)), 'constant') for sample in X_filtered], dtype=float)"
   ]
  },
  {
   "cell_type": "markdown",
   "id": "f386eff2",
   "metadata": {},
   "source": [
    "reshape the data to fit the Deep Neural network structure as input data. "
   ]
  },
  {
   "cell_type": "code",
   "execution_count": 12,
   "id": "b84b69f9",
   "metadata": {},
   "outputs": [],
   "source": [
    "# Reshape the input data for LSTM\n",
    "X_train_reshaped = X_padded.reshape((X_padded.shape[0], 1, X_padded.shape[1]))"
   ]
  },
  {
   "cell_type": "markdown",
   "id": "e69cf467",
   "metadata": {},
   "source": [
    "Final check of the input data for missing labels or empty values "
   ]
  },
  {
   "cell_type": "code",
   "execution_count": 13,
   "id": "d056da4a",
   "metadata": {},
   "outputs": [
    {
     "name": "stdout",
     "output_type": "stream",
     "text": [
      "NaN values in X_train_reshaped: False\n",
      "NaN values in y_filtered: False\n"
     ]
    }
   ],
   "source": [
    "# Check for NaN values in X_train_reshaped and y_filtered\n",
    "print(\"NaN values in X_train_reshaped:\", np.any(np.isnan(X_train_reshaped)))\n",
    "print(\"NaN values in y_filtered:\", np.any(np.isnan(y_filtered)))"
   ]
  },
  {
   "cell_type": "markdown",
   "id": "425dfb8b",
   "metadata": {},
   "source": [
    "cell below is used to spilt the data into a training and testing set the test_size parameter is used to specify a percentage of the data to use as a testing set. training set is used as part of training the testing set will not be used in training but is instead used to help validate the accuracy of the produced model. "
   ]
  },
  {
   "cell_type": "code",
   "execution_count": 14,
   "id": "87cc7d8b",
   "metadata": {},
   "outputs": [],
   "source": [
    "# Split the data into training and testing sets\n",
    "X_train, X_test, y_train, y_test = train_test_split(X_train_reshaped, y_filtered, test_size=0.2)# testing set set to zero if no data is needed to test on after training (note that teting and validation data is different)"
   ]
  },
  {
   "cell_type": "markdown",
   "id": "d55ba3b9",
   "metadata": {},
   "source": [
    "In the below cell is where the structure of the deep neural network is designed or decided on. \n",
    "\n",
    "The model structure aims to focus on the most significant features and compress the information as it moves through the network which is why the model layers reduce in size. the dropout layers are included to reduce the risk of overfitting (if overfitting seems to be ocurring i suggest that the values in these layers are increased).LSTM layers where included due to the fact i (Joshua Paterson) have found in the past that when building neural networks these layer will most often produce more accurate result (feel free to remove if you suspect differently). relu activation on dense layers was used as it is the standard activation and is suitable for most tasks. "
   ]
  },
  {
   "cell_type": "code",
   "execution_count": 15,
   "id": "7bc6a923",
   "metadata": {},
   "outputs": [],
   "source": [
    "# Build the neural network for regression\n",
    "model = Sequential([\n",
    "    LSTM(724, input_shape=(X_train_reshaped.shape[1], X_train_reshaped.shape[2]), return_sequences=True),\n",
    "    Dropout(0.05),\n",
    "    LSTM(512),\n",
    "    Dropout(0.05),\n",
    "    Dense(262, activation='relu'),\n",
    "    Dense(128, activation='relu'),\n",
    "    Dense(64, activation='relu'),\n",
    "    Dense(32, activation='relu'),\n",
    "    Dense(16, activation='relu'),\n",
    "    Dense(1, activation='linear')\n",
    "])"
   ]
  },
  {
   "cell_type": "markdown",
   "id": "5d653994",
   "metadata": {},
   "source": [
    "below cell sets up a model empty model with the parameters it will use during training.\n",
    "\n",
    "It is unlikely that you will want to change the loss and metrics parameters as these are the metrics used to determine the error of the model. \n",
    "\n",
    "the optimizer parameter will have a signicant effect on the results and accuracy of the model. rmsprop was choosen as it had the best results with the lab testing data it is also supposed to do well when dealing with a small amount of data. \n"
   ]
  },
  {
   "cell_type": "code",
   "execution_count": 16,
   "id": "cab307b9",
   "metadata": {},
   "outputs": [],
   "source": [
    "# Compile the model\n",
    "model.compile(optimizer='rmsprop', loss='mean_squared_error', metrics=['mean_absolute_error'])"
   ]
  },
  {
   "cell_type": "markdown",
   "id": "f83da8e2",
   "metadata": {},
   "source": [
    "\n",
    "model checkpointing is a process in which as the model is trained, the version of that model that has the best prediction results on the validation data will be save in the checkpoint variable.\n"
   ]
  },
  {
   "cell_type": "code",
   "execution_count": 17,
   "id": "a2d1db4a",
   "metadata": {},
   "outputs": [],
   "source": [
    "# Add model checkpointing\n",
    "checkpoint = ModelCheckpoint('50_DNN_MT_WELD_Testing_Check.keras', save_best_only=True, monitor='val_loss', mode='min')"
   ]
  },
  {
   "cell_type": "markdown",
   "id": "48fcbcc3",
   "metadata": {},
   "source": [
    "cell below trains the model on the data in X_train and y_train"
   ]
  },
  {
   "cell_type": "code",
   "execution_count": 18,
   "id": "1051cf6c",
   "metadata": {},
   "outputs": [
    {
     "name": "stdout",
     "output_type": "stream",
     "text": [
      "Train on 57 samples, validate on 15 samples\n",
      "Epoch 1/120\n",
      "57/57 [==============================] - 3s 46ms/step - loss: 3515.7426 - mean_absolute_error: 45.1144 - val_loss: 3189.0891 - val_mean_absolute_error: 42.7570\n",
      "Epoch 2/120\n",
      "57/57 [==============================] - 0s 7ms/step - loss: 1758.9144 - mean_absolute_error: 33.4471 - val_loss: 2101.8333 - val_mean_absolute_error: 34.3189\n",
      "Epoch 3/120\n",
      "57/57 [==============================] - 0s 7ms/step - loss: 983.8458 - mean_absolute_error: 24.2219 - val_loss: 1117.7140 - val_mean_absolute_error: 26.4327\n",
      "Epoch 4/120\n",
      "57/57 [==============================] - 0s 7ms/step - loss: 805.2696 - mean_absolute_error: 22.7176 - val_loss: 964.8640 - val_mean_absolute_error: 22.7267\n",
      "Epoch 5/120\n",
      "57/57 [==============================] - 0s 6ms/step - loss: 351.3985 - mean_absolute_error: 12.9721 - val_loss: 777.4186 - val_mean_absolute_error: 20.5141\n",
      "Epoch 6/120\n",
      "57/57 [==============================] - 0s 5ms/step - loss: 188.3019 - mean_absolute_error: 10.2899 - val_loss: 831.9350 - val_mean_absolute_error: 21.0910\n",
      "Epoch 7/120\n",
      "57/57 [==============================] - 0s 6ms/step - loss: 118.5028 - mean_absolute_error: 7.6599 - val_loss: 1231.8997 - val_mean_absolute_error: 28.0907\n",
      "Epoch 8/120\n",
      "57/57 [==============================] - 0s 5ms/step - loss: 302.8148 - mean_absolute_error: 12.8435 - val_loss: 853.2924 - val_mean_absolute_error: 20.3977\n",
      "Epoch 9/120\n",
      "57/57 [==============================] - 0s 6ms/step - loss: 103.1655 - mean_absolute_error: 7.4304 - val_loss: 781.7979 - val_mean_absolute_error: 19.7361\n",
      "Epoch 10/120\n",
      "57/57 [==============================] - 0s 6ms/step - loss: 64.5447 - mean_absolute_error: 5.8498 - val_loss: 823.2510 - val_mean_absolute_error: 18.8905\n",
      "Epoch 11/120\n",
      "57/57 [==============================] - 0s 6ms/step - loss: 46.1323 - mean_absolute_error: 4.3865 - val_loss: 829.5540 - val_mean_absolute_error: 20.4922\n",
      "Epoch 12/120\n",
      "57/57 [==============================] - 0s 5ms/step - loss: 300.8516 - mean_absolute_error: 12.4769 - val_loss: 968.5944 - val_mean_absolute_error: 23.7805\n",
      "Epoch 13/120\n",
      "57/57 [==============================] - 0s 5ms/step - loss: 139.8118 - mean_absolute_error: 8.3482 - val_loss: 804.5245 - val_mean_absolute_error: 20.9666\n",
      "Epoch 14/120\n",
      "57/57 [==============================] - 0s 6ms/step - loss: 28.6939 - mean_absolute_error: 4.0035 - val_loss: 816.3936 - val_mean_absolute_error: 19.4732\n",
      "Epoch 15/120\n",
      "57/57 [==============================] - 0s 5ms/step - loss: 24.1779 - mean_absolute_error: 3.7793 - val_loss: 798.5398 - val_mean_absolute_error: 18.4976\n",
      "Epoch 16/120\n",
      "57/57 [==============================] - 0s 5ms/step - loss: 37.5264 - mean_absolute_error: 4.1283 - val_loss: 832.4841 - val_mean_absolute_error: 20.0319\n",
      "Epoch 17/120\n",
      "57/57 [==============================] - 0s 6ms/step - loss: 166.3078 - mean_absolute_error: 9.0442 - val_loss: 765.8255 - val_mean_absolute_error: 18.9705\n",
      "Epoch 18/120\n",
      "57/57 [==============================] - 0s 5ms/step - loss: 69.7282 - mean_absolute_error: 5.9353 - val_loss: 788.9515 - val_mean_absolute_error: 19.6497\n",
      "Epoch 19/120\n",
      "57/57 [==============================] - 0s 6ms/step - loss: 46.5636 - mean_absolute_error: 5.0730 - val_loss: 1132.4492 - val_mean_absolute_error: 25.9039\n",
      "Epoch 20/120\n",
      "57/57 [==============================] - 0s 6ms/step - loss: 256.1814 - mean_absolute_error: 11.3551 - val_loss: 805.3834 - val_mean_absolute_error: 19.4967\n",
      "Epoch 21/120\n",
      "57/57 [==============================] - 0s 5ms/step - loss: 40.2707 - mean_absolute_error: 4.3561 - val_loss: 775.4279 - val_mean_absolute_error: 18.9124\n",
      "Epoch 22/120\n",
      "57/57 [==============================] - 0s 5ms/step - loss: 11.3698 - mean_absolute_error: 2.3147 - val_loss: 769.1580 - val_mean_absolute_error: 18.4752\n",
      "Epoch 23/120\n",
      "57/57 [==============================] - 0s 6ms/step - loss: 25.3248 - mean_absolute_error: 3.6094 - val_loss: 1082.9642 - val_mean_absolute_error: 23.9683\n",
      "Epoch 24/120\n",
      "57/57 [==============================] - 0s 6ms/step - loss: 134.0935 - mean_absolute_error: 8.0854 - val_loss: 889.8785 - val_mean_absolute_error: 19.8296\n",
      "Epoch 25/120\n",
      "57/57 [==============================] - 0s 7ms/step - loss: 64.4826 - mean_absolute_error: 5.8587 - val_loss: 815.3206 - val_mean_absolute_error: 19.2066\n",
      "Epoch 26/120\n",
      "57/57 [==============================] - 0s 6ms/step - loss: 96.5166 - mean_absolute_error: 7.6148 - val_loss: 871.8925 - val_mean_absolute_error: 20.5123\n",
      "Epoch 27/120\n",
      "57/57 [==============================] - 0s 6ms/step - loss: 186.0851 - mean_absolute_error: 10.7419 - val_loss: 939.2462 - val_mean_absolute_error: 23.0767\n",
      "Epoch 28/120\n",
      "57/57 [==============================] - 0s 5ms/step - loss: 50.8882 - mean_absolute_error: 5.3979 - val_loss: 795.6432 - val_mean_absolute_error: 19.3156\n",
      "Epoch 29/120\n",
      "57/57 [==============================] - 0s 5ms/step - loss: 13.1631 - mean_absolute_error: 2.5920 - val_loss: 836.8680 - val_mean_absolute_error: 20.0384\n",
      "Epoch 30/120\n",
      "57/57 [==============================] - 0s 6ms/step - loss: 39.4510 - mean_absolute_error: 4.8411 - val_loss: 883.9154 - val_mean_absolute_error: 20.8062\n",
      "Epoch 31/120\n",
      "57/57 [==============================] - 0s 6ms/step - loss: 44.7320 - mean_absolute_error: 5.0116 - val_loss: 961.0163 - val_mean_absolute_error: 23.1828\n",
      "Epoch 32/120\n",
      "57/57 [==============================] - 0s 5ms/step - loss: 78.1508 - mean_absolute_error: 6.4627 - val_loss: 800.3880 - val_mean_absolute_error: 19.7194\n",
      "Epoch 33/120\n",
      "57/57 [==============================] - 0s 5ms/step - loss: 29.1076 - mean_absolute_error: 3.9965 - val_loss: 813.8080 - val_mean_absolute_error: 19.6767\n",
      "Epoch 34/120\n",
      "57/57 [==============================] - 0s 5ms/step - loss: 28.4421 - mean_absolute_error: 3.7498 - val_loss: 1017.7215 - val_mean_absolute_error: 25.0016\n",
      "Epoch 35/120\n",
      "57/57 [==============================] - 0s 5ms/step - loss: 86.4005 - mean_absolute_error: 5.8643 - val_loss: 837.0861 - val_mean_absolute_error: 21.6311\n",
      "Epoch 36/120\n",
      "57/57 [==============================] - 0s 7ms/step - loss: 82.0320 - mean_absolute_error: 6.9258 - val_loss: 827.0113 - val_mean_absolute_error: 20.7688\n",
      "Epoch 37/120\n",
      "57/57 [==============================] - 0s 6ms/step - loss: 34.0236 - mean_absolute_error: 4.1731 - val_loss: 776.8477 - val_mean_absolute_error: 18.6288\n",
      "Epoch 38/120\n",
      "57/57 [==============================] - 0s 5ms/step - loss: 35.7854 - mean_absolute_error: 3.7352 - val_loss: 1291.6185 - val_mean_absolute_error: 27.8025\n",
      "Epoch 39/120\n",
      "57/57 [==============================] - 0s 6ms/step - loss: 127.0751 - mean_absolute_error: 7.9696 - val_loss: 964.6924 - val_mean_absolute_error: 21.8094\n",
      "Epoch 40/120\n",
      "57/57 [==============================] - 0s 5ms/step - loss: 24.4812 - mean_absolute_error: 3.5987 - val_loss: 819.6467 - val_mean_absolute_error: 19.5647\n",
      "Epoch 41/120\n",
      "57/57 [==============================] - 0s 5ms/step - loss: 29.9820 - mean_absolute_error: 4.1558 - val_loss: 884.1815 - val_mean_absolute_error: 22.1552\n",
      "Epoch 42/120\n",
      "57/57 [==============================] - 0s 5ms/step - loss: 55.5124 - mean_absolute_error: 5.6641 - val_loss: 909.2884 - val_mean_absolute_error: 22.8979\n",
      "Epoch 43/120\n",
      "57/57 [==============================] - 0s 5ms/step - loss: 96.4863 - mean_absolute_error: 7.8812 - val_loss: 845.8347 - val_mean_absolute_error: 22.0384\n",
      "Epoch 44/120\n",
      "57/57 [==============================] - 0s 5ms/step - loss: 38.1004 - mean_absolute_error: 4.3386 - val_loss: 816.3409 - val_mean_absolute_error: 21.3232\n",
      "Epoch 45/120\n",
      "57/57 [==============================] - 0s 5ms/step - loss: 47.3272 - mean_absolute_error: 5.0471 - val_loss: 866.6639 - val_mean_absolute_error: 22.3390\n",
      "Epoch 46/120\n",
      "57/57 [==============================] - 0s 7ms/step - loss: 93.7676 - mean_absolute_error: 7.2076 - val_loss: 753.5292 - val_mean_absolute_error: 19.2764\n",
      "Epoch 47/120\n",
      "57/57 [==============================] - 0s 5ms/step - loss: 34.1846 - mean_absolute_error: 4.0793 - val_loss: 767.1747 - val_mean_absolute_error: 19.2191\n",
      "Epoch 48/120\n",
      "57/57 [==============================] - 0s 5ms/step - loss: 30.1749 - mean_absolute_error: 3.9909 - val_loss: 781.8219 - val_mean_absolute_error: 19.3847\n",
      "Epoch 49/120\n"
     ]
    },
    {
     "name": "stdout",
     "output_type": "stream",
     "text": [
      "57/57 [==============================] - 0s 5ms/step - loss: 11.5412 - mean_absolute_error: 2.6100 - val_loss: 773.4680 - val_mean_absolute_error: 19.0857\n",
      "Epoch 50/120\n",
      "57/57 [==============================] - 0s 6ms/step - loss: 2.8715 - mean_absolute_error: 1.2001 - val_loss: 763.1742 - val_mean_absolute_error: 19.0721\n",
      "Epoch 51/120\n",
      "57/57 [==============================] - 0s 6ms/step - loss: 65.6201 - mean_absolute_error: 5.5732 - val_loss: 1217.0531 - val_mean_absolute_error: 26.3768\n",
      "Epoch 52/120\n",
      "57/57 [==============================] - 0s 5ms/step - loss: 64.8709 - mean_absolute_error: 5.3535 - val_loss: 799.8918 - val_mean_absolute_error: 20.4139\n",
      "Epoch 53/120\n",
      "57/57 [==============================] - 0s 6ms/step - loss: 32.8820 - mean_absolute_error: 4.0021 - val_loss: 798.6078 - val_mean_absolute_error: 20.4158\n",
      "Epoch 54/120\n",
      "57/57 [==============================] - 0s 6ms/step - loss: 17.0607 - mean_absolute_error: 2.8611 - val_loss: 786.9014 - val_mean_absolute_error: 20.3455\n",
      "Epoch 55/120\n",
      "57/57 [==============================] - 0s 5ms/step - loss: 51.2995 - mean_absolute_error: 5.4034 - val_loss: 917.0079 - val_mean_absolute_error: 22.8377\n",
      "Epoch 56/120\n",
      "57/57 [==============================] - 0s 6ms/step - loss: 43.7376 - mean_absolute_error: 4.8411 - val_loss: 810.9581 - val_mean_absolute_error: 19.5731\n",
      "Epoch 57/120\n",
      "57/57 [==============================] - 0s 6ms/step - loss: 12.4321 - mean_absolute_error: 2.5161 - val_loss: 776.5604 - val_mean_absolute_error: 20.5897\n",
      "Epoch 58/120\n",
      "57/57 [==============================] - 0s 6ms/step - loss: 72.1340 - mean_absolute_error: 6.2901 - val_loss: 806.2098 - val_mean_absolute_error: 20.9356\n",
      "Epoch 59/120\n",
      "57/57 [==============================] - 0s 5ms/step - loss: 70.0502 - mean_absolute_error: 6.0852 - val_loss: 769.7889 - val_mean_absolute_error: 19.9647\n",
      "Epoch 60/120\n",
      "57/57 [==============================] - 0s 6ms/step - loss: 22.9115 - mean_absolute_error: 3.3059 - val_loss: 800.8207 - val_mean_absolute_error: 19.6736\n",
      "Epoch 61/120\n",
      "57/57 [==============================] - 0s 6ms/step - loss: 58.9808 - mean_absolute_error: 5.6202 - val_loss: 918.3751 - val_mean_absolute_error: 21.8633\n",
      "Epoch 62/120\n",
      "57/57 [==============================] - 0s 7ms/step - loss: 25.5019 - mean_absolute_error: 3.4097 - val_loss: 863.0154 - val_mean_absolute_error: 22.3218\n",
      "Epoch 63/120\n",
      "57/57 [==============================] - 0s 7ms/step - loss: 34.9839 - mean_absolute_error: 3.8188 - val_loss: 793.3182 - val_mean_absolute_error: 19.9107\n",
      "Epoch 64/120\n",
      "57/57 [==============================] - 0s 6ms/step - loss: 13.7880 - mean_absolute_error: 2.8256 - val_loss: 789.1771 - val_mean_absolute_error: 19.6967\n",
      "Epoch 65/120\n",
      "57/57 [==============================] - 0s 6ms/step - loss: 12.2286 - mean_absolute_error: 2.4957 - val_loss: 818.8656 - val_mean_absolute_error: 21.7052\n",
      "Epoch 66/120\n",
      "57/57 [==============================] - 0s 6ms/step - loss: 97.9061 - mean_absolute_error: 7.3450 - val_loss: 850.8496 - val_mean_absolute_error: 20.4544\n",
      "Epoch 67/120\n",
      "57/57 [==============================] - 0s 6ms/step - loss: 28.6926 - mean_absolute_error: 3.6668 - val_loss: 770.1848 - val_mean_absolute_error: 19.2275\n",
      "Epoch 68/120\n",
      "57/57 [==============================] - 0s 7ms/step - loss: 11.0747 - mean_absolute_error: 2.3456 - val_loss: 785.0084 - val_mean_absolute_error: 19.6440\n",
      "Epoch 69/120\n",
      "57/57 [==============================] - 0s 6ms/step - loss: 20.1069 - mean_absolute_error: 3.2464 - val_loss: 835.1328 - val_mean_absolute_error: 20.1406\n",
      "Epoch 70/120\n",
      "57/57 [==============================] - 0s 6ms/step - loss: 34.0683 - mean_absolute_error: 4.1750 - val_loss: 782.3154 - val_mean_absolute_error: 20.1664\n",
      "Epoch 71/120\n",
      "57/57 [==============================] - 0s 7ms/step - loss: 18.3830 - mean_absolute_error: 2.9035 - val_loss: 839.8913 - val_mean_absolute_error: 20.4335\n",
      "Epoch 72/120\n",
      "57/57 [==============================] - 0s 6ms/step - loss: 47.5749 - mean_absolute_error: 5.0938 - val_loss: 888.0875 - val_mean_absolute_error: 20.8041\n",
      "Epoch 73/120\n",
      "57/57 [==============================] - 0s 7ms/step - loss: 62.1665 - mean_absolute_error: 5.5129 - val_loss: 756.2734 - val_mean_absolute_error: 19.0995\n",
      "Epoch 74/120\n",
      "57/57 [==============================] - 0s 7ms/step - loss: 10.7401 - mean_absolute_error: 2.5211 - val_loss: 838.3129 - val_mean_absolute_error: 20.4083\n",
      "Epoch 75/120\n",
      "57/57 [==============================] - 0s 6ms/step - loss: 46.3555 - mean_absolute_error: 5.2319 - val_loss: 782.5983 - val_mean_absolute_error: 19.8530\n",
      "Epoch 76/120\n",
      "57/57 [==============================] - 0s 7ms/step - loss: 46.5551 - mean_absolute_error: 4.5736 - val_loss: 781.3392 - val_mean_absolute_error: 19.7014\n",
      "Epoch 77/120\n",
      "57/57 [==============================] - 0s 6ms/step - loss: 6.4865 - mean_absolute_error: 1.5808 - val_loss: 791.8669 - val_mean_absolute_error: 20.1010\n",
      "Epoch 78/120\n",
      "57/57 [==============================] - 0s 6ms/step - loss: 11.1327 - mean_absolute_error: 2.4978 - val_loss: 797.7792 - val_mean_absolute_error: 20.5717\n",
      "Epoch 79/120\n",
      "57/57 [==============================] - 0s 8ms/step - loss: 8.5932 - mean_absolute_error: 1.8823 - val_loss: 794.1163 - val_mean_absolute_error: 19.7674\n",
      "Epoch 80/120\n",
      "57/57 [==============================] - 0s 7ms/step - loss: 72.5875 - mean_absolute_error: 5.6181 - val_loss: 756.0212 - val_mean_absolute_error: 19.2243\n",
      "Epoch 81/120\n",
      "57/57 [==============================] - 0s 7ms/step - loss: 14.4550 - mean_absolute_error: 2.6090 - val_loss: 770.0480 - val_mean_absolute_error: 19.0922\n",
      "Epoch 82/120\n",
      "57/57 [==============================] - 0s 6ms/step - loss: 4.5443 - mean_absolute_error: 1.4531 - val_loss: 794.7147 - val_mean_absolute_error: 19.3469\n",
      "Epoch 83/120\n",
      "57/57 [==============================] - 0s 6ms/step - loss: 31.7092 - mean_absolute_error: 4.1803 - val_loss: 902.1163 - val_mean_absolute_error: 21.7192\n",
      "Epoch 84/120\n",
      "57/57 [==============================] - 0s 8ms/step - loss: 53.9485 - mean_absolute_error: 5.0570 - val_loss: 875.1783 - val_mean_absolute_error: 21.1637\n",
      "Epoch 85/120\n",
      "57/57 [==============================] - 0s 8ms/step - loss: 58.7406 - mean_absolute_error: 5.6104 - val_loss: 779.1750 - val_mean_absolute_error: 19.5859\n",
      "Epoch 86/120\n",
      "57/57 [==============================] - 0s 6ms/step - loss: 8.2858 - mean_absolute_error: 1.9972 - val_loss: 796.3112 - val_mean_absolute_error: 20.1846\n",
      "Epoch 87/120\n",
      "57/57 [==============================] - 0s 7ms/step - loss: 3.0003 - mean_absolute_error: 1.1974 - val_loss: 768.6009 - val_mean_absolute_error: 19.3863\n",
      "Epoch 88/120\n",
      "57/57 [==============================] - 0s 6ms/step - loss: 7.4589 - mean_absolute_error: 1.8065 - val_loss: 902.4178 - val_mean_absolute_error: 21.3652\n",
      "Epoch 89/120\n",
      "57/57 [==============================] - 0s 6ms/step - loss: 84.8406 - mean_absolute_error: 6.3379 - val_loss: 863.8036 - val_mean_absolute_error: 21.1143\n",
      "Epoch 90/120\n",
      "57/57 [==============================] - 0s 6ms/step - loss: 16.9715 - mean_absolute_error: 2.7182 - val_loss: 790.7130 - val_mean_absolute_error: 20.2386\n",
      "Epoch 91/120\n",
      "57/57 [==============================] - 0s 7ms/step - loss: 4.3408 - mean_absolute_error: 1.4790 - val_loss: 772.8945 - val_mean_absolute_error: 19.5602\n",
      "Epoch 92/120\n",
      "57/57 [==============================] - 1s 10ms/step - loss: 7.0761 - mean_absolute_error: 1.6923 - val_loss: 847.3329 - val_mean_absolute_error: 21.2610\n",
      "Epoch 93/120\n",
      "57/57 [==============================] - 0s 8ms/step - loss: 101.5727 - mean_absolute_error: 7.3498 - val_loss: 781.7903 - val_mean_absolute_error: 20.2707\n",
      "Epoch 94/120\n",
      "57/57 [==============================] - 0s 7ms/step - loss: 45.3403 - mean_absolute_error: 5.0006 - val_loss: 816.0047 - val_mean_absolute_error: 20.8314\n",
      "Epoch 95/120\n",
      "57/57 [==============================] - 0s 7ms/step - loss: 8.8748 - mean_absolute_error: 2.2524 - val_loss: 816.7673 - val_mean_absolute_error: 20.8047\n",
      "Epoch 96/120\n",
      "57/57 [==============================] - 0s 7ms/step - loss: 38.1727 - mean_absolute_error: 4.6566 - val_loss: 817.5439 - val_mean_absolute_error: 20.0182\n",
      "Epoch 97/120\n",
      "57/57 [==============================] - 0s 7ms/step - loss: 15.5534 - mean_absolute_error: 2.6776 - val_loss: 826.9725 - val_mean_absolute_error: 20.3890\n"
     ]
    },
    {
     "name": "stdout",
     "output_type": "stream",
     "text": [
      "Epoch 98/120\n",
      "57/57 [==============================] - 0s 7ms/step - loss: 20.7149 - mean_absolute_error: 3.2790 - val_loss: 952.0988 - val_mean_absolute_error: 22.3472\n",
      "Epoch 99/120\n",
      "57/57 [==============================] - 0s 8ms/step - loss: 18.5837 - mean_absolute_error: 3.1859 - val_loss: 840.4415 - val_mean_absolute_error: 20.5425\n",
      "Epoch 100/120\n",
      "57/57 [==============================] - 0s 6ms/step - loss: 25.2806 - mean_absolute_error: 3.3977 - val_loss: 888.2626 - val_mean_absolute_error: 22.2466\n",
      "Epoch 101/120\n",
      "57/57 [==============================] - 0s 5ms/step - loss: 49.2613 - mean_absolute_error: 5.4892 - val_loss: 790.1321 - val_mean_absolute_error: 19.8619\n",
      "Epoch 102/120\n",
      "57/57 [==============================] - 0s 6ms/step - loss: 13.7538 - mean_absolute_error: 2.6418 - val_loss: 770.5275 - val_mean_absolute_error: 19.9747\n",
      "Epoch 103/120\n",
      "57/57 [==============================] - 0s 6ms/step - loss: 17.6274 - mean_absolute_error: 3.0174 - val_loss: 896.9284 - val_mean_absolute_error: 22.2619\n",
      "Epoch 104/120\n",
      "57/57 [==============================] - 0s 7ms/step - loss: 15.4255 - mean_absolute_error: 2.6816 - val_loss: 742.5448 - val_mean_absolute_error: 19.2486\n",
      "Epoch 105/120\n",
      "57/57 [==============================] - 0s 6ms/step - loss: 24.0117 - mean_absolute_error: 3.6338 - val_loss: 820.0244 - val_mean_absolute_error: 20.7928\n",
      "Epoch 106/120\n",
      "57/57 [==============================] - 0s 7ms/step - loss: 39.6826 - mean_absolute_error: 4.6376 - val_loss: 883.2479 - val_mean_absolute_error: 22.0921\n",
      "Epoch 107/120\n",
      "57/57 [==============================] - 0s 6ms/step - loss: 26.4975 - mean_absolute_error: 3.5564 - val_loss: 768.6610 - val_mean_absolute_error: 20.1229\n",
      "Epoch 108/120\n",
      "57/57 [==============================] - 0s 7ms/step - loss: 34.1831 - mean_absolute_error: 4.2733 - val_loss: 772.4987 - val_mean_absolute_error: 19.6257\n",
      "Epoch 109/120\n",
      "57/57 [==============================] - 0s 6ms/step - loss: 5.6706 - mean_absolute_error: 1.7051 - val_loss: 782.5029 - val_mean_absolute_error: 20.0975\n",
      "Epoch 110/120\n",
      "57/57 [==============================] - 0s 6ms/step - loss: 9.6608 - mean_absolute_error: 1.8203 - val_loss: 870.0880 - val_mean_absolute_error: 21.6166\n",
      "Epoch 111/120\n",
      "57/57 [==============================] - 0s 7ms/step - loss: 42.1629 - mean_absolute_error: 4.7460 - val_loss: 836.8143 - val_mean_absolute_error: 20.7011\n",
      "Epoch 112/120\n",
      "57/57 [==============================] - 0s 6ms/step - loss: 11.2658 - mean_absolute_error: 2.3914 - val_loss: 787.5577 - val_mean_absolute_error: 20.1060\n",
      "Epoch 113/120\n",
      "57/57 [==============================] - 0s 7ms/step - loss: 24.9570 - mean_absolute_error: 3.6653 - val_loss: 787.1346 - val_mean_absolute_error: 20.0703\n",
      "Epoch 114/120\n",
      "57/57 [==============================] - 0s 7ms/step - loss: 7.5977 - mean_absolute_error: 1.9437 - val_loss: 798.5695 - val_mean_absolute_error: 21.0778\n",
      "Epoch 115/120\n",
      "57/57 [==============================] - 0s 8ms/step - loss: 50.7260 - mean_absolute_error: 4.9218 - val_loss: 832.2050 - val_mean_absolute_error: 21.0340\n",
      "Epoch 116/120\n",
      "57/57 [==============================] - 0s 7ms/step - loss: 11.6950 - mean_absolute_error: 2.1867 - val_loss: 806.1646 - val_mean_absolute_error: 19.6622\n",
      "Epoch 117/120\n",
      "57/57 [==============================] - 0s 8ms/step - loss: 16.0234 - mean_absolute_error: 2.5346 - val_loss: 822.2802 - val_mean_absolute_error: 20.4628\n",
      "Epoch 118/120\n",
      "57/57 [==============================] - 0s 8ms/step - loss: 9.5442 - mean_absolute_error: 2.1483 - val_loss: 889.0215 - val_mean_absolute_error: 21.7909\n",
      "Epoch 119/120\n",
      "57/57 [==============================] - 0s 7ms/step - loss: 39.9010 - mean_absolute_error: 4.1548 - val_loss: 825.6730 - val_mean_absolute_error: 20.2881\n",
      "Epoch 120/120\n",
      "57/57 [==============================] - 0s 8ms/step - loss: 8.3167 - mean_absolute_error: 1.9604 - val_loss: 813.8580 - val_mean_absolute_error: 21.2692\n"
     ]
    }
   ],
   "source": [
    "# Train the model and capture history\n",
    "history = model.fit(X_train, y_train, epochs=120, batch_size=16, validation_split=0.2, callbacks=[checkpoint])"
   ]
  },
  {
   "cell_type": "markdown",
   "id": "25a09591",
   "metadata": {},
   "source": [
    "run the model or take predictions on the testing data"
   ]
  },
  {
   "cell_type": "code",
   "execution_count": 19,
   "id": "b3c66a20",
   "metadata": {},
   "outputs": [
    {
     "name": "stdout",
     "output_type": "stream",
     "text": [
      "\r",
      "19/19 [==============================] - 0s 2ms/step\n"
     ]
    }
   ],
   "source": [
    "# Evaluate the model\n",
    "loss, mae = model.evaluate(X_test, y_test)"
   ]
  },
  {
   "cell_type": "markdown",
   "id": "9d4e879d",
   "metadata": {},
   "source": [
    "below cell runs the model on all data and print information on the results to the console"
   ]
  },
  {
   "cell_type": "code",
   "execution_count": 20,
   "id": "de4f507b",
   "metadata": {},
   "outputs": [
    {
     "name": "stdout",
     "output_type": "stream",
     "text": [
      "91/91 [==============================] - 0s 889us/step\n",
      "Test Mean Absolute Error: 32.41\n",
      "Overall Mean Absolute Error on All Data: 12.53\n"
     ]
    }
   ],
   "source": [
    "# Combine training and test data for overall evaluation\n",
    "X_all = np.concatenate((X_train, X_test), axis=0)\n",
    "y_all = np.concatenate((y_train, y_test), axis=0)\n",
    "loss_all, mae_all = model.evaluate(X_all, y_all)\n",
    "print(f'Test Mean Absolute Error: {mae:.2f}')\n",
    "print(f'Overall Mean Absolute Error on All Data: {mae_all:.2f}')"
   ]
  },
  {
   "cell_type": "markdown",
   "id": "7eaa9d21",
   "metadata": {},
   "source": [
    "cell plots a graph to show prediction results on both the training and validation set of data. \n",
    "\n",
    "the graph below has the loss on the y axis and Epoch on the x-axis. the Epochs can be considered a timeline of training the models as the number of epochs is the number of times the data is ran through the model and the loss is total error. the model with the lowest result on the validation set will be the model saved a lower loss on the validation set will typicall indicate a better performing model."
   ]
  },
  {
   "cell_type": "code",
   "execution_count": 21,
   "id": "62a6baa6",
   "metadata": {},
   "outputs": [
    {
     "data": {
      "image/png": "[encoded data removed]",
      "text/plain": [
       "<Figure size 1000x500 with 1 Axes>"
      ]
     },
     "metadata": {},
     "output_type": "display_data"
    }
   ],
   "source": [
    "# Plot training & validation loss values\n",
    "plt.figure(figsize=(10, 5))\n",
    "plt.plot(history.history['loss'], label='Train Loss')\n",
    "plt.plot(history.history['val_loss'], label='Validation Loss')\n",
    "plt.title('Model Loss')\n",
    "plt.ylabel('Loss')\n",
    "plt.xlabel('Epoch')\n",
    "plt.legend(loc='upper right')\n",
    "plt.show()"
   ]
  },
  {
   "cell_type": "markdown",
   "id": "a1db6be4",
   "metadata": {},
   "source": [
    "save the model to a file"
   ]
  },
  {
   "cell_type": "code",
   "execution_count": 22,
   "id": "e88b3b97",
   "metadata": {},
   "outputs": [
    {
     "name": "stdout",
     "output_type": "stream",
     "text": [
      "Model saved as '50_DNN_MT_WELD_Testing.keras'\n"
     ]
    }
   ],
   "source": [
    "# Save the model\n",
    "model.save('50_DNN_MT_WELD_Testing.keras')\n",
    "print(\"Model saved as '50_DNN_MT_WELD_Testing.keras'\")"
   ]
  }
 ],
 "metadata": {
  "kernelspec": {
   "display_name": "Python 3 (ipykernel)",
   "language": "python",
   "name": "python3"
  },
  "language_info": {
   "codemirror_mode": {
    "name": "ipython",
    "version": 3
   },
   "file_extension": ".py",
   "mimetype": "text/x-python",
   "name": "python",
   "nbconvert_exporter": "python",
   "pygments_lexer": "ipython3",
   "version": "3.12.7"
  }
 },
 "nbformat": 4,
 "nbformat_minor": 5
}
