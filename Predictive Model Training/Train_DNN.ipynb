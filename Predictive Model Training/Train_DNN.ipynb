{
 "cells": [
  {
   "cell_type": "markdown",
   "id": "37d54c3f",
   "metadata": {},
   "source": [
    "Train_DNN\n",
    "\n",
    "this script is used to train a Deep Neural Network and save a model. the purpose of these models is to be used with the Dielectric sensor Python server to produce a kpa prediction from the raw sensor readings (S1P Files).\n",
    "\n",
    "Note that the data used to train the neural network will need to be in the folder structure produce by the S1P_File_Finder Script "
   ]
  },
  {
   "cell_type": "markdown",
   "id": "76fdd37e",
   "metadata": {},
   "source": [
    "--\n",
    "\n",
    "\n",
    "import required librarys\n",
    "\n",
    "Note that if required to run on mudmaster VTC's you will need to install specific version of the below librarys. the nessarsary version of tensorflow is version 1.12, this version of sensor flow is on longer supported and you will need to use the tensorflow-1.12.0-cp37-cp37m-win_amd64.whl file to install from. i also recommend that you install the librarys in the order that the pip install command below are ordered. this is due to some librarys also installing the latest version of the librarys which may overwrite the desired version of other librarys.\n",
    "\n",
    "pip install numpy==1.21.6\n",
    "pip install scipy==1.7.3\n",
    "pip install scikit-rf==1.1.0\n",
    "pip install flask==2.2.5\n",
    "pip install pyserial\n",
    "pip install psutil==6.1.0\n",
    "pip install requests==2.31.0\n",
    "pip install matplotlib==3.5.3\n",
    "pip install tensorflow-1.12.0-cp37-cp37m-win_amd64.whl\n",
    "pip install protobuf==3.19.6\n",
    "pip install h5py==2.10.0\n",
    "\n"
   ]
  },
  {
   "cell_type": "code",
   "execution_count": 1,
   "id": "a741b705",
   "metadata": {},
   "outputs": [
    {
     "name": "stderr",
     "output_type": "stream",
     "text": [
      "C:\\Users\\JoshuaPaterson\\anaconda3\\envs\\myenv\\lib\\site-packages\\tensorflow\\python\\framework\\dtypes.py:523: FutureWarning: Passing (type, 1) or '1type' as a synonym of type is deprecated; in a future version of numpy, it will be understood as (type, (1,)) / '(1,)type'.\n",
      "  _np_qint8 = np.dtype([(\"qint8\", np.int8, 1)])\n",
      "C:\\Users\\JoshuaPaterson\\anaconda3\\envs\\myenv\\lib\\site-packages\\tensorflow\\python\\framework\\dtypes.py:524: FutureWarning: Passing (type, 1) or '1type' as a synonym of type is deprecated; in a future version of numpy, it will be understood as (type, (1,)) / '(1,)type'.\n",
      "  _np_quint8 = np.dtype([(\"quint8\", np.uint8, 1)])\n",
      "C:\\Users\\JoshuaPaterson\\anaconda3\\envs\\myenv\\lib\\site-packages\\tensorflow\\python\\framework\\dtypes.py:525: FutureWarning: Passing (type, 1) or '1type' as a synonym of type is deprecated; in a future version of numpy, it will be understood as (type, (1,)) / '(1,)type'.\n",
      "  _np_qint16 = np.dtype([(\"qint16\", np.int16, 1)])\n",
      "C:\\Users\\JoshuaPaterson\\anaconda3\\envs\\myenv\\lib\\site-packages\\tensorflow\\python\\framework\\dtypes.py:526: FutureWarning: Passing (type, 1) or '1type' as a synonym of type is deprecated; in a future version of numpy, it will be understood as (type, (1,)) / '(1,)type'.\n",
      "  _np_quint16 = np.dtype([(\"quint16\", np.uint16, 1)])\n",
      "C:\\Users\\JoshuaPaterson\\anaconda3\\envs\\myenv\\lib\\site-packages\\tensorflow\\python\\framework\\dtypes.py:527: FutureWarning: Passing (type, 1) or '1type' as a synonym of type is deprecated; in a future version of numpy, it will be understood as (type, (1,)) / '(1,)type'.\n",
      "  _np_qint32 = np.dtype([(\"qint32\", np.int32, 1)])\n",
      "C:\\Users\\JoshuaPaterson\\anaconda3\\envs\\myenv\\lib\\site-packages\\tensorflow\\python\\framework\\dtypes.py:532: FutureWarning: Passing (type, 1) or '1type' as a synonym of type is deprecated; in a future version of numpy, it will be understood as (type, (1,)) / '(1,)type'.\n",
      "  np_resource = np.dtype([(\"resource\", np.ubyte, 1)])\n"
     ]
    }
   ],
   "source": [
    "import numpy as np\n",
    "import os\n",
    "import json\n",
    "import matplotlib.pyplot as plt\n",
    "from sklearn.model_selection import train_test_split\n",
    "from tensorflow.keras.models import Sequential\n",
    "from tensorflow.keras.layers import LSTM, Dense, Dropout\n",
    "from tensorflow.keras.callbacks import ModelCheckpoint\n",
    "from tensorflow.keras.models import load_model\n",
    "#note that the red text from running this code is not a error but a warning. you way continue with the warning "
   ]
  },
  {
   "cell_type": "markdown",
   "id": "c37b1cd2",
   "metadata": {},
   "source": [
    "the below function is used to take a s1p file or raw sesnor readings a put the data into four arrays being s11_real, s11_imag, magnitudes, phases. s11_real and s11_imag are taken directly from the s1p file with no modification and magnitudes, phases are derived from these values.\n",
    "\n",
    "thes values are used as input data for training.\n",
    "\n"
   ]
  },
  {
   "cell_type": "code",
   "execution_count": 2,
   "id": "a0b6135a",
   "metadata": {},
   "outputs": [],
   "source": [
    "def read_s_param_file(file_path):\n",
    "    \"\"\"Read S-parameter file and return magnitudes, phases, real, and imaginary components.\"\"\"\n",
    "    s11_real, s11_imag = [], []\n",
    "    \n",
    "    with open(file_path, 'r') as f:\n",
    "        for line in f:\n",
    "            if line.startswith(('!', '#')):  # Skip comments\n",
    "                continue\n",
    "            parts = line.split()\n",
    "            if len(parts) >= 3:\n",
    "                s11_real.append(float(parts[1]))\n",
    "                s11_imag.append(float(parts[2]))\n",
    "\n",
    "    s11_real = np.array(s11_real)\n",
    "    s11_imag = np.array(s11_imag)\n",
    "    \n",
    "    magnitudes = np.sqrt(s11_real**2 + s11_imag**2)\n",
    "    phases = np.arctan2(s11_imag, s11_real)\n",
    "\n",
    "    return s11_real, s11_imag, magnitudes, phases"
   ]
  },
  {
   "cell_type": "markdown",
   "id": "d702a8c0",
   "metadata": {},
   "source": [
    "function below is used to extract the data from the folder that will need to be indicated in the main_folder parameter. data will need to be structured in the same way as the S1P_File_Finder outputs data. "
   ]
  },
  {
   "cell_type": "code",
   "execution_count": 3,
   "id": "cb43baf6",
   "metadata": {},
   "outputs": [],
   "source": [
    "def load_data_from_folders(main_folder, use_cal_data):\n",
    "    \"\"\"Load data from specified main folder and return combined data and labels.\"\"\"\n",
    "    data, labels = [], []\n",
    "    \n",
    "    for sample_folder in os.listdir(main_folder):\n",
    "        sample_path = os.path.join(main_folder, sample_folder)\n",
    "        \n",
    "        if os.path.isdir(sample_path):\n",
    "            json_file_path = os.path.join(sample_path, 'data.json')\n",
    "            s1p_file_paths = [os.path.join(sample_path, f) for f in os.listdir(sample_path) if f.endswith('.s1p')]\n",
    "            \n",
    "            # Read the label from the JSON file\n",
    "            if os.path.exists(json_file_path):\n",
    "                with open(json_file_path, 'r') as json_file:\n",
    "                    json_data = json.load(json_file)\n",
    "                    label = json_data.get('shearVain50cm', None)\n",
    "                    \n",
    "                    # Attempt to convert the label to an integer (or float if necessary)\n",
    "                    if label is not None:\n",
    "                        try:\n",
    "                            label = int(label)  # Try to convert to an integer\n",
    "                        except ValueError:\n",
    "                            try:\n",
    "                                label = float(label)  # Try to convert to a float if it's not an int\n",
    "                            except ValueError:\n",
    "                                print(f\"Warning: Unable to convert label '{label}' to a number.\")\n",
    "                                label = None  # Set to None if conversion fails\n",
    "                    labels.append(label)\n",
    "            else:\n",
    "                print(f\"Warning: '{json_file_path}' not found.\")\n",
    "\n",
    "            # Read the first valid S-parameter file\n",
    "            if s1p_file_paths:\n",
    "                s11_real, s11_imag, magnitudes, phases = read_s_param_file(s1p_file_paths[0])\n",
    "                sample_data = np.concatenate([s11_real, s11_imag, magnitudes, phases])\n",
    "                \n",
    "                if use_cal_data:\n",
    "                    # Check for calibration data\n",
    "                    cal_file_path = os.path.join(sample_path, 'Cal_data.s1p')\n",
    "                    if os.path.exists(cal_file_path):\n",
    "                        cal_real, cal_imag, cal_magnitudes, cal_phases = read_s_param_file(cal_file_path)\n",
    "                        cal_data = np.concatenate([cal_real, cal_imag, cal_magnitudes, cal_phases])\n",
    "                        sample_data = np.concatenate([sample_data, cal_data])\n",
    "                    else:\n",
    "                        print(f\"Warning: Calibration data not found in '{sample_path}'. Using sample data without calibration.\")\n",
    "\n",
    "                data.append(sample_data)\n",
    "                #print(f\"Loaded sample data with shape: {sample_data.shape}\")  # Debugging output\n",
    "            else:\n",
    "                print(f\"Warning: No valid .s1p file found in '{sample_path}'.\")\n",
    "\n",
    "    return np.array(data, dtype=float), np.array(labels)"
   ]
  },
  {
   "cell_type": "markdown",
   "id": "41ebd4b8",
   "metadata": {},
   "source": [
    "the main_folder variable is a string of the file path to the folder where the training data is stored. this will be the data outputted from the S1P_File_Finder. an ecample of how the data should be structured can be found at this location \"IG88 - General\\03 Development\\Dielectric Antenna\\Archive File\\Predictive Model Training Guide and FIles Archive 06012025\\3_Output_Training_Data\""
   ]
  },
  {
   "cell_type": "code",
   "execution_count": 4,
   "id": "504f9f9f",
   "metadata": {},
   "outputs": [],
   "source": [
    "# Example usage\n",
    "main_folder = r'C:\\Users\\JoshuaPaterson\\Phibion Pty Ltd\\IG88 - General\\03 Development\\Dielectric Antenna\\Predictive Model Training\\Data Processing Scripts\\MT_WELD_OUTPUT'"
   ]
  },
  {
   "cell_type": "markdown",
   "id": "0d2e3bb6",
   "metadata": {},
   "source": [
    "the variable use_cal_data should always be false this is no longer used as calibration data is no longer used as part of the dielectric sensor."
   ]
  },
  {
   "cell_type": "code",
   "execution_count": 5,
   "id": "6ea3adc3",
   "metadata": {},
   "outputs": [],
   "source": [
    "use_cal_data = False  # Change this to True if you want to use calibration data"
   ]
  },
  {
   "cell_type": "markdown",
   "id": "65f72ae4",
   "metadata": {},
   "source": [
    "this line calls the function above and puts the data from the s1p_File_finder Script into variables to be used for the rest of the function."
   ]
  },
  {
   "cell_type": "code",
   "execution_count": 6,
   "id": "75db654f",
   "metadata": {},
   "outputs": [
    {
     "name": "stdout",
     "output_type": "stream",
     "text": [
      "Loaded 91 samples.\n"
     ]
    }
   ],
   "source": [
    "data, labels = load_data_from_folders(main_folder, use_cal_data)\n",
    "\n",
    "print(f\"Loaded {len(data)} samples.\")  # Print the number of samples loaded"
   ]
  },
  {
   "cell_type": "markdown",
   "id": "434aba8e",
   "metadata": {},
   "source": [
    "the below cells are used to remove the sample points with none values within them. this due to the fact that a lebel is required to go with the data inorder to use it to train on samples."
   ]
  },
  {
   "cell_type": "code",
   "execution_count": 7,
   "id": "2d72884c",
   "metadata": {},
   "outputs": [],
   "source": [
    "# Remove samples where the label is None\n",
    "filtered_data = []\n",
    "filtered_labels = []"
   ]
  },
  {
   "cell_type": "code",
   "execution_count": 8,
   "id": "0ff5bec6",
   "metadata": {},
   "outputs": [],
   "source": [
    "for sample, label in zip(data, labels):\n",
    "    if label is not None:  # Only include samples with a valid label\n",
    "        filtered_data.append(sample)\n",
    "        filtered_labels.append(label)"
   ]
  },
  {
   "cell_type": "markdown",
   "id": "810097ba",
   "metadata": {},
   "source": [
    "convert or insure data is in the correct format being float values"
   ]
  },
  {
   "cell_type": "code",
   "execution_count": 9,
   "id": "b4a3bad9",
   "metadata": {},
   "outputs": [],
   "source": [
    "# Convert filtered data and labels to numpy arrays\n",
    "X_filtered = np.array(filtered_data, dtype=float)\n",
    "y_filtered = np.array(filtered_labels, dtype=float)"
   ]
  },
  {
   "cell_type": "markdown",
   "id": "eae2a945",
   "metadata": {},
   "source": [
    "the below cell are used to correct data that is not consistance with the majority of the dataset.\n",
    "\n",
    "when the sensor takes a reading it will rarely only produce a smaller range of scanned frequencys than what it will usally do. when this happens the data returned is smaller is the below cells will pad the data with 0 if the data returned is smaller than what is expected."
   ]
  },
  {
   "cell_type": "code",
   "execution_count": 10,
   "id": "821426e6",
   "metadata": {},
   "outputs": [],
   "source": [
    "# Handle varying lengths by padding\n",
    "max_length = max(len(sample) for sample in X_filtered)  # Find the max length"
   ]
  },
  {
   "cell_type": "code",
   "execution_count": 11,
   "id": "5aa2f76a",
   "metadata": {},
   "outputs": [],
   "source": [
    "# Pad samples to ensure uniformity\n",
    "X_padded = np.array([np.pad(sample, (0, max_length - len(sample)), 'constant') for sample in X_filtered], dtype=float)"
   ]
  },
  {
   "cell_type": "markdown",
   "id": "f386eff2",
   "metadata": {},
   "source": [
    "reshape the data to fit the Deep Neural network structure as input data. "
   ]
  },
  {
   "cell_type": "code",
   "execution_count": 12,
   "id": "b84b69f9",
   "metadata": {},
   "outputs": [],
   "source": [
    "# Reshape the input data for LSTM\n",
    "X_train_reshaped = X_padded.reshape((X_padded.shape[0], 1, X_padded.shape[1]))"
   ]
  },
  {
   "cell_type": "markdown",
   "id": "e69cf467",
   "metadata": {},
   "source": [
    "Final check of the input data for missing labels or empty values "
   ]
  },
  {
   "cell_type": "code",
   "execution_count": 13,
   "id": "d056da4a",
   "metadata": {},
   "outputs": [
    {
     "name": "stdout",
     "output_type": "stream",
     "text": [
      "NaN values in X_train_reshaped: False\n",
      "NaN values in y_filtered: False\n"
     ]
    }
   ],
   "source": [
    "# Check for NaN values in X_train_reshaped and y_filtered\n",
    "print(\"NaN values in X_train_reshaped:\", np.any(np.isnan(X_train_reshaped)))\n",
    "print(\"NaN values in y_filtered:\", np.any(np.isnan(y_filtered)))"
   ]
  },
  {
   "cell_type": "markdown",
   "id": "425dfb8b",
   "metadata": {},
   "source": [
    "cell below is used to spilt the data into a training and testing set the test_size parameter is used to specify a percentage of the data to use as a testing set. training set is used as part of training the testing set will not be used in training but is instead used to help validate the accuracy of the produced model. "
   ]
  },
  {
   "cell_type": "code",
   "execution_count": 14,
   "id": "87cc7d8b",
   "metadata": {},
   "outputs": [],
   "source": [
    "# Split the data into training and testing sets\n",
    "X_train, X_test, y_train, y_test = train_test_split(X_train_reshaped, y_filtered, test_size=0.0)# testing set set to zero if no data is needed to test on after training (note that teting and validation data is different)"
   ]
  },
  {
   "cell_type": "markdown",
   "id": "99ee1109",
   "metadata": {},
   "source": [
    "below is a example of how the data needs to be structured for 1 sample. X train and y train variables will be used for training  note that the data is structured in a arrary format so the data will need to be in the form of [sample,sample] for example the same goes for y train. X and y test will be in the same form"
   ]
  },
  {
   "cell_type": "code",
   "execution_count": 15,
   "id": "43bf0ee1",
   "metadata": {},
   "outputs": [
    {
     "name": "stdout",
     "output_type": "stream",
     "text": [
      "[[-4.23021510e-01 -7.93922916e-01 -2.75683959e-01 -7.18181626e-01\n",
      "   5.01360200e-01  6.39933320e-01  5.54610956e-01 -6.73988739e-02\n",
      "  -4.57053475e-01  2.36000296e-01  9.84130997e-02  2.20377654e-01\n",
      "   8.55556098e-02 -1.50973812e-02  3.65530638e-01  1.60158814e-01\n",
      "  -3.89748661e-01 -3.83001697e-01  1.98082864e-01  2.84573619e-01\n",
      "  -1.58719634e-01 -8.15034758e-02  1.88816663e-01  4.90845665e-02\n",
      "  -1.17853192e-01 -6.59273571e-02 -6.76889450e-02 -3.71868100e-02\n",
      "  -1.73547055e-02 -2.72919797e-03 -6.16172856e-02  3.52451988e-02\n",
      "  -9.09330488e-02  1.43395109e-01 -1.43587711e-02 -1.77812597e-01\n",
      "   2.63410726e-01 -9.19719189e-02  2.75493958e-01  4.28988901e-02\n",
      "   3.17709405e-01  3.37043452e-01 -1.59223908e-01 -2.90450380e-01\n",
      "   3.32262064e-01 -1.68729616e-01 -3.96259243e-01 -4.05990332e-01\n",
      "   1.64658450e-03  2.99987047e-01 -3.03513477e-02  3.01065939e-01\n",
      "   3.27639698e-01 -3.23411396e-01 -2.93996429e-01 -2.16394709e-01\n",
      "   1.97076210e-01  1.49627330e-01 -1.24728131e-01  2.95480856e-02\n",
      "  -6.15374428e-02 -6.69872280e-02  4.28041076e-02 -1.40257389e-02\n",
      "  -2.09940856e-02  2.05169619e-02 -3.26908473e-02  2.94891155e-03\n",
      "   6.28769364e-02  4.76847331e-02 -9.33502847e-02 -5.25509720e-02\n",
      "  -1.61389422e-02 -2.45360124e-01  2.98913291e-02  1.92582404e-01\n",
      "   2.84714978e-01  3.06988566e-02 -4.78022260e-02  3.54462431e-02\n",
      "   1.57660635e-02  4.16472924e-01  3.42463790e-01  3.40721075e-01\n",
      "   3.13211128e-01  2.52529343e-01 -3.96074735e-01 -3.34969992e-01\n",
      "  -3.50915548e-01  2.48900079e-01 -1.03999618e-01 -3.38225788e-01\n",
      "   3.32531007e-01 -2.71470462e-01 -3.49221918e-01 -3.62169502e-01\n",
      "  -1.69493528e-01 -4.62482136e-02  4.68791122e-01  3.70792341e-01\n",
      "  -5.12706871e-01 -1.61740309e-01  6.71620830e-01 -2.18124003e-01\n",
      "  -3.50812237e-01  4.84606128e-01 -3.83786704e-01  9.74020445e-02\n",
      "   3.74133635e-01 -6.90071192e-01  5.06213432e-01 -1.73004646e-01\n",
      "  -5.15757513e-01  1.37544686e-01  2.06736623e-01 -2.88311701e-01\n",
      "   3.00849280e-01 -3.89934003e-01  3.44640285e-01 -1.93118425e-01\n",
      "  -6.65731671e-02  2.20420253e-01 -1.47535867e-01  2.22941678e-01\n",
      "  -3.17855644e-01  3.03252671e-01 -1.59059069e-01 -3.36273142e-01\n",
      "  -2.98521843e-01 -3.34055610e-01 -1.24974803e-01  1.64763007e-01\n",
      "   2.96306071e-01 -1.24919102e-01 -1.15154744e-01  1.92904340e-01\n",
      "  -1.54155458e-01  2.68883068e-01 -2.74615450e-01 -1.99443268e-01\n",
      "  -1.16527530e-01 -1.66015782e-01  1.18323155e-01 -6.11942747e-02\n",
      "   9.80618581e-02 -7.70877313e-02 -2.67851274e-02  3.54707125e-02\n",
      "  -2.05650523e-02  9.07985197e-03 -1.59184038e-02  4.52195170e-02\n",
      "  -6.78062376e-02 -7.86633344e-02 -8.78135468e-02 -3.52031516e-02\n",
      "   1.00302815e-01  9.65498842e-02 -1.46242684e-01  5.46776516e-02\n",
      "   3.95160821e-02 -1.33665359e-01 -1.02159953e-01 -9.82205689e-02\n",
      "  -1.57574191e-01 -1.83902524e-02  1.14159830e-01  1.48743844e-01\n",
      "   9.87568208e-02 -1.19625155e-01 -7.92626985e-03 -3.23482283e-02\n",
      "   5.10847094e-02 -4.57437630e-03  1.26360853e-01 -1.06157117e-01\n",
      "  -7.96233318e-02  8.54651468e-03 -7.72862935e-02 -9.02783082e-02\n",
      "   2.87622242e-02 -7.15869286e-01  2.59579633e-01  7.25349889e-01\n",
      "   2.69473610e-02 -4.22948731e-01  3.60067716e-02 -1.14197426e-01\n",
      "   4.92318740e-01 -2.52378178e-02  3.19085650e-01 -3.36551343e-01\n",
      "   2.71670532e-01 -3.88455262e-01  4.37311297e-01 -2.81819487e-01\n",
      "  -4.23825822e-01  1.63665696e-01 -1.61213416e-02  3.00335037e-01\n",
      "  -1.83612810e-01 -2.39131672e-01 -2.14489797e-01  4.37577977e-03\n",
      "  -1.63728942e-01  8.05946390e-02  6.88284150e-02  1.39241300e-02\n",
      "   3.19534334e-02  5.99645364e-02 -7.60776824e-02  2.55235517e-02\n",
      "  -7.88536704e-02  6.20111741e-02  3.30102038e-02  1.89006901e-01\n",
      "  -1.33239608e-01 -4.67545777e-02  2.69018479e-01 -9.28513289e-02\n",
      "   3.01518787e-01 -3.84857034e-03  1.12658566e-01  3.58782332e-01\n",
      "  -2.86331144e-01  2.25376403e-01  3.49157355e-01 -5.54423819e-02\n",
      "   4.41113633e-02  4.12955081e-01 -2.56614939e-01 -3.68121936e-01\n",
      "  -1.64283361e-01  6.43088271e-02 -2.83279299e-02  6.19004861e-02\n",
      "  -1.22873628e-01  1.93882195e-03 -2.15174324e-02  2.21260516e-02\n",
      "  -1.07341265e-01 -6.46773681e-02 -7.15523484e-03 -2.91883945e-03\n",
      "  -5.88003004e-03  8.08615881e-03 -2.75841440e-02  2.31827404e-02\n",
      "   4.74506877e-02  1.23102277e-02 -7.19991995e-02 -8.89351468e-02\n",
      "  -1.63722423e-01 -2.14980702e-01 -6.61213833e-02 -2.81859363e-01\n",
      "   2.42366069e-01 -1.71856315e-01 -3.66112552e-01  3.96101423e-01\n",
      "  -4.19011628e-01  4.28631978e-01  5.59060737e-02  2.37122742e-01\n",
      "   2.39952547e-01  2.78699657e-01 -3.36379649e-01 -9.39008246e-02\n",
      "  -1.92954586e-01 -7.26725594e-02 -2.26230953e-01  3.14736866e-01\n",
      "   5.97339387e-02  1.36150472e-01 -2.31584967e-01  7.75736219e-02\n",
      "   7.70994258e-02  3.71858669e-01 -4.56801396e-01 -1.88490436e-01\n",
      "   4.05224238e-01  2.96976271e-01 -6.15327305e-01 -6.36049746e-02\n",
      "   6.70173596e-01 -6.34923669e-01  5.53735307e-01 -6.31747744e-01\n",
      "   7.28917857e-01 -6.22627859e-01  1.58282409e-01  4.55630276e-01\n",
      "  -6.25286937e-01 -3.30085508e-01  5.55905744e-01 -4.89721627e-01\n",
      "   3.97383192e-01 -3.32965235e-01  1.33063850e-01 -1.68022242e-01\n",
      "   3.03724479e-01 -3.35472601e-01  2.44357685e-01 -2.89479967e-01\n",
      "   2.42136784e-01 -9.82664251e-02  1.45897153e-01 -2.99421802e-01\n",
      "   4.02055459e-02  1.60400819e-01 -5.34531561e-02 -3.20344695e-01\n",
      "  -3.01929774e-01  1.66988201e-01  3.10256981e-01 -3.01146459e-01\n",
      "   2.43304163e-01 -2.56452692e-01  1.11591439e-01  4.21552166e-02\n",
      "   1.61807154e-01  1.92465682e-01  8.93817119e-02 -9.56809514e-02\n",
      "  -1.07533417e-01  3.40330148e-02  3.42241268e-02 -5.14723819e-02\n",
      "   5.62359669e-03  1.15404132e-02  1.98247297e-02 -2.81751488e-02\n",
      "  -2.43927989e-02 -2.01739582e-02  2.43675431e-02  2.07383723e-02\n",
      "  -9.51394082e-02  6.37081701e-02 -9.78040989e-02 -3.43894835e-02\n",
      "   1.46818531e-01  1.53483914e-01  9.52287911e-02 -1.36991913e-01\n",
      "  -1.46428589e-01 -7.27342375e-02 -1.66393844e-01 -1.17778073e-01\n",
      "  -3.71661527e-02 -9.21125383e-02 -1.69098503e-02  1.19182551e-01\n",
      "   1.21581966e-01 -1.12181519e-01  1.17652258e-01  1.72073414e-02\n",
      "  -9.76835622e-02  1.27746127e-01  1.45333526e-01  1.10149116e-01\n",
      "  -8.57161124e-02 -1.12057077e-01  8.31514301e-01  8.35281498e-01\n",
      "   7.75973006e-01  7.18687003e-01  6.55932679e-01  6.40945506e-01\n",
      "   5.66245852e-01  4.96910807e-01  4.57749742e-01  3.96877553e-01\n",
      "   3.50645041e-01  3.49815934e-01  3.97765324e-01  4.37571825e-01\n",
      "   4.61557007e-01  4.53077447e-01  4.22717966e-01  3.83340838e-01\n",
      "   3.59774868e-01  3.38667697e-01  2.87011984e-01  2.29453023e-01\n",
      "   1.88867360e-01  1.70928234e-01  1.42775595e-01  9.53087988e-02\n",
      "   6.91062563e-02  4.90293865e-02  6.24254069e-02  7.61266201e-02\n",
      "   6.66943894e-02  8.63720173e-02  1.10064550e-01  1.47145611e-01\n",
      "   1.89551531e-01  2.22193863e-01  2.67527945e-01  2.84305779e-01\n",
      "   2.90720296e-01  3.04555239e-01  3.17732714e-01  3.55373382e-01\n",
      "   3.92526451e-01  4.07856528e-01  4.01487984e-01  3.87789301e-01\n",
      "   4.00119039e-01  4.08379679e-01  4.12958363e-01  3.94770129e-01\n",
      "   3.69371038e-01  3.42971898e-01  3.33891295e-01  3.24649662e-01\n",
      "   3.00442291e-01  2.48846536e-01  1.97085747e-01  1.51166589e-01\n",
      "   1.26675447e-01  1.11333897e-01  8.92749618e-02  6.73682870e-02\n",
      "   4.29035110e-02  1.52084222e-02  2.24975020e-02  3.43777650e-02\n",
      "   4.00765636e-02  4.75422322e-02  6.40706707e-02  8.63580830e-02\n",
      "   1.28933068e-01  1.71949517e-01  2.15585639e-01  2.54113415e-01\n",
      "   2.83439927e-01  3.09563069e-01  3.32561591e-01  3.67397361e-01\n",
      "   3.98975425e-01  4.20508241e-01  4.28921836e-01  4.20208503e-01\n",
      "   4.16543686e-01  4.16735019e-01  4.19254946e-01  4.20621371e-01\n",
      "   4.07053511e-01  3.86570003e-01  3.58361581e-01  3.36350551e-01\n",
      "   3.31474306e-01  3.43460081e-01  3.59324118e-01  3.56830224e-01\n",
      "   3.57734000e-01  3.70285120e-01  4.08664808e-01  4.59136594e-01\n",
      "   5.05266030e-01  5.49266459e-01  5.92505900e-01  6.36229220e-01\n",
      "   6.74625920e-01  7.04777078e-01  7.25394576e-01  7.35843658e-01\n",
      "   7.39187017e-01  7.35396764e-01  7.26389308e-01  7.07991223e-01\n",
      "   6.81066067e-01  6.48779131e-01  6.12341616e-01  5.72668959e-01\n",
      "   5.31570600e-01  4.90955230e-01  4.48749526e-01  4.12012761e-01\n",
      "   3.83416745e-01  3.59921221e-01  3.42014404e-01  3.29083221e-01\n",
      "   3.24908423e-01  3.29140113e-01  3.32698814e-01  3.36523642e-01\n",
      "   3.39047493e-01  3.38668144e-01  3.38885989e-01  3.38305174e-01\n",
      "   3.43859601e-01  3.43959935e-01  3.40121077e-01  3.34461023e-01\n",
      "   3.22412476e-01  3.10497987e-01  2.99218797e-01  2.91119827e-01\n",
      "   2.77832157e-01  2.56825178e-01  2.24992675e-01  1.88547952e-01\n",
      "   1.52168372e-01  1.23726210e-01  1.03799683e-01  8.43434003e-02\n",
      "   5.80245564e-02  3.59137339e-02  2.35818259e-02  2.18051283e-02\n",
      "   3.23610042e-02  5.13791140e-02  7.07437238e-02  8.23510616e-02\n",
      "   9.02291476e-02  1.01443427e-01  1.18825021e-01  1.37431881e-01\n",
      "   1.50231685e-01  1.56669483e-01  1.58489219e-01  1.64118710e-01\n",
      "   1.70890141e-01  1.76319630e-01  1.73550843e-01  1.67407027e-01\n",
      "   1.64024819e-01  1.53316842e-01  1.35046767e-01  1.20814406e-01\n",
      "   1.19445830e-01  1.25811694e-01  1.23265326e-01  1.17741152e-01\n",
      "   1.27527087e-01  1.44261609e-01  1.50528894e-01  1.45584603e-01\n",
      "   1.34558533e-01  1.24488654e-01  1.15689473e-01 -2.10451264e+00\n",
      "   2.82559062e+00  1.93400478e+00  3.10408860e+00 -7.00768256e-01\n",
      "   5.62071772e-02 -2.03067388e-01  1.70685145e+00 -3.08643015e+00\n",
      "   9.33975295e-01 -1.28631149e+00  8.89266618e-01 -1.35401166e+00\n",
      "   1.60530581e+00 -6.56798247e-01 -1.20949587e+00  2.74402735e+00\n",
      "  -3.09952540e+00  9.87744058e-01 -5.73008141e-01 -2.15676533e+00\n",
      "  -1.93393255e+00  2.31706068e-02 -1.27953071e+00  2.54178380e+00\n",
      "   2.33466955e+00  2.93871510e+00  2.43174262e+00  1.85251511e+00\n",
      "  -1.60665478e+00  2.74888199e+00 -1.15046528e+00  2.54308842e+00\n",
      "   2.26262634e-01  1.64662024e+00 -2.49852302e+00 -1.75667304e-01\n",
      "   1.90021866e+00 -3.25079072e-01  1.42946883e+00 -1.21128996e-02\n",
      "   3.22580110e-01  1.98847379e+00 -2.36333613e+00  5.96019543e-01\n",
      "   2.02095280e+00 -3.00258065e+00  3.03336593e+00  1.56680903e+00\n",
      "  -7.07632286e-01 -1.65305943e+00 -4.99514576e-01  1.93815231e-01\n",
      "  -3.05422463e+00  2.93407525e+00 -2.62516973e+00  9.83761258e-03\n",
      "  -1.42827627e-01  2.96602484e+00 -1.30217690e+00 -2.33132199e+00\n",
      "  -3.03518122e+00 -6.80852382e-02 -2.74461820e+00  2.77394129e+00\n",
      "  -9.31277946e-01  2.52475158e+00  1.50872928e+00  1.93337368e-01\n",
      "  -9.85826147e-01 -2.38041077e+00 -1.88138438e+00 -1.64572736e+00\n",
      "  -2.87835895e+00 -1.46514073e+00  8.99360988e-01 -5.43068417e-01\n",
      "  -1.48714115e+00  1.69089730e+00 -1.48640237e+00  1.53403062e+00\n",
      "   1.33439304e-01  6.05608667e-01  6.13572094e-01  7.27158909e-01\n",
      "  -9.26829989e-01 -2.90881184e+00 -2.61898056e+00 -2.93738519e+00\n",
      "  -7.37723002e-01  1.88993481e+00  2.96678559e+00  3.88615090e-01\n",
      "  -2.43531545e+00  2.92300898e+00  2.93184164e+00  1.99846383e+00\n",
      "  -1.67169611e+00 -3.82296177e-01  8.29739134e-01  2.61658366e+00\n",
      "  -1.82783439e+00 -9.44220835e-02  1.88545678e+00 -2.07557730e+00\n",
      "   8.51876598e-01 -2.11671223e+00  1.43795770e+00 -1.02971939e+00\n",
      "   2.91612162e+00  7.32856778e-01 -1.84072413e+00 -2.57227850e+00\n",
      "   1.32824315e+00 -1.17134102e+00  2.19844898e+00 -8.36025768e-01\n",
      "   2.81273669e+00 -4.53621381e-01  2.13714865e+00 -1.76669713e+00\n",
      "   8.36855641e-01 -2.04214069e+00  8.26647584e-01 -2.84175876e+00\n",
      "   4.48419751e-01 -2.05910745e+00  3.02259537e+00  2.64853910e+00\n",
      "  -2.98292496e+00 -1.94276179e+00 -1.07126063e+00  5.13199319e-01\n",
      "   1.95356881e+00 -1.93602822e+00  9.00428770e-01 -2.11202926e+00\n",
      "   3.93385916e-01  2.98927528e+00  2.46000288e+00  2.11521044e+00\n",
      "   2.64770453e+00 -6.79987668e-01 -2.08816427e+00  3.34050231e-01\n",
      "   2.72377014e+00 -2.05061361e+00  1.57233305e-01  2.63021695e+00\n",
      "   1.14130431e+00 -2.08506793e+00 -4.94692442e-01 -2.85240930e+00\n",
      "   2.84119681e+00  2.90967818e+00 -1.92519077e+00  5.65870867e-01\n",
      "  -7.91851323e-01 -2.91063520e+00  1.21429252e+00  1.31880821e+00\n",
      "   2.52256519e+00 -2.21156359e+00 -2.16163745e+00 -2.70914466e+00\n",
      "  -1.68087201e+00 -8.00996952e-01 -2.44853322e-01 -7.50601585e-01\n",
      "  -3.00116607e+00  1.63720382e+00  1.83083324e+00 -1.14348118e+00\n",
      "   1.60965723e+00  1.35343700e-01 -2.39774007e+00  2.12816756e+00\n",
      "   1.51205776e+00  2.18262983e+00 -2.38211108e+00 -1.31954546e+00]]\n"
     ]
    }
   ],
   "source": [
    "print(X_train[0])"
   ]
  },
  {
   "cell_type": "code",
   "execution_count": 16,
   "id": "66137814",
   "metadata": {},
   "outputs": [
    {
     "name": "stdout",
     "output_type": "stream",
     "text": [
      "90.0\n"
     ]
    }
   ],
   "source": [
    "print(y_train[0])"
   ]
  },
  {
   "cell_type": "markdown",
   "id": "d55ba3b9",
   "metadata": {},
   "source": [
    "In the below cell is where the structure of the deep neural network is designed or decided on. \n",
    "\n",
    "The model structure aims to focus on the most significant features and compress the information as it moves through the network which is why the model layers reduce in size. the dropout layers are included to reduce the risk of overfitting (if overfitting seems to be ocurring i suggest that the values in these layers are increased).LSTM layers where included due to the fact i (Joshua Paterson) have found in the past that when building neural networks these layer will most often produce more accurate result (feel free to remove if you suspect differently). relu activation on dense layers was used as it is the standard activation and is suitable for most tasks. "
   ]
  },
  {
   "cell_type": "code",
   "execution_count": 17,
   "id": "7bc6a923",
   "metadata": {},
   "outputs": [],
   "source": [
    "# Build the neural network for regression\n",
    "model = Sequential([\n",
    "    LSTM(724, input_shape=(X_train_reshaped.shape[1], X_train_reshaped.shape[2]), return_sequences=True),\n",
    "    Dropout(0.05),\n",
    "    LSTM(512),\n",
    "    Dropout(0.05),\n",
    "    Dense(262, activation='relu'),\n",
    "    Dense(128, activation='relu'),\n",
    "    Dense(64, activation='relu'),\n",
    "    Dense(32, activation='relu'),\n",
    "    Dense(16, activation='relu'),\n",
    "    Dense(1, activation='linear')\n",
    "])"
   ]
  },
  {
   "cell_type": "markdown",
   "id": "5d653994",
   "metadata": {},
   "source": [
    "below cell sets up a model empty model with the parameters it will use during training.\n",
    "\n",
    "It is unlikely that you will want to change the loss and metrics parameters as these are the metrics used to determine the error of the model. \n",
    "\n",
    "the optimizer parameter will have a signicant effect on the results and accuracy of the model. rmsprop was choosen as it had the best results with the lab testing data it is also supposed to do well when dealing with a small amount of data. \n"
   ]
  },
  {
   "cell_type": "code",
   "execution_count": 18,
   "id": "cab307b9",
   "metadata": {},
   "outputs": [],
   "source": [
    "# Compile the model\n",
    "model.compile(optimizer='rmsprop', loss='mean_squared_error', metrics=['mean_absolute_error'])"
   ]
  },
  {
   "cell_type": "markdown",
   "id": "f83da8e2",
   "metadata": {},
   "source": [
    "\n",
    "model checkpointing is a process in which as the model is trained, the version of that model that has the best prediction results on the validation data will be save in the checkpoint variable.\n"
   ]
  },
  {
   "cell_type": "code",
   "execution_count": 19,
   "id": "a2d1db4a",
   "metadata": {},
   "outputs": [],
   "source": [
    "# Add model checkpointing\n",
    "checkpoint = ModelCheckpoint('50_DNN_MT_WELD_Testing_Check.keras', save_best_only=True, monitor='val_loss', mode='min')"
   ]
  },
  {
   "cell_type": "markdown",
   "id": "48fcbcc3",
   "metadata": {},
   "source": [
    "cell below trains the model on the data in X_train and y_train"
   ]
  },
  {
   "cell_type": "code",
   "execution_count": 20,
   "id": "1051cf6c",
   "metadata": {},
   "outputs": [
    {
     "name": "stdout",
     "output_type": "stream",
     "text": [
      "Train on 57 samples, validate on 15 samples\n",
      "Epoch 1/120\n",
      "57/57 [==============================] - 3s 54ms/step - loss: 4195.2970 - mean_absolute_error: 49.2678 - val_loss: 2865.2310 - val_mean_absolute_error: 43.5470\n",
      "Epoch 2/120\n",
      "57/57 [==============================] - 0s 8ms/step - loss: 2396.8591 - mean_absolute_error: 38.2484 - val_loss: 1049.0397 - val_mean_absolute_error: 24.0655\n",
      "Epoch 3/120\n",
      "57/57 [==============================] - 0s 6ms/step - loss: 1476.3272 - mean_absolute_error: 30.8610 - val_loss: 1445.3352 - val_mean_absolute_error: 28.9039\n",
      "Epoch 4/120\n",
      "57/57 [==============================] - 0s 6ms/step - loss: 785.0962 - mean_absolute_error: 21.0684 - val_loss: 1154.8970 - val_mean_absolute_error: 26.3635\n",
      "Epoch 5/120\n",
      "57/57 [==============================] - 1s 9ms/step - loss: 621.8744 - mean_absolute_error: 18.7763 - val_loss: 1035.7664 - val_mean_absolute_error: 24.9361\n",
      "Epoch 6/120\n",
      "57/57 [==============================] - 0s 7ms/step - loss: 323.0218 - mean_absolute_error: 13.4125 - val_loss: 933.7272 - val_mean_absolute_error: 23.1925\n",
      "Epoch 7/120\n",
      "57/57 [==============================] - 0s 8ms/step - loss: 453.4009 - mean_absolute_error: 15.7749 - val_loss: 802.4355 - val_mean_absolute_error: 21.9915\n",
      "Epoch 8/120\n",
      "57/57 [==============================] - 0s 8ms/step - loss: 112.2314 - mean_absolute_error: 7.8060 - val_loss: 1052.7856 - val_mean_absolute_error: 25.7479\n",
      "Epoch 9/120\n",
      "57/57 [==============================] - 0s 7ms/step - loss: 53.3240 - mean_absolute_error: 5.6841 - val_loss: 782.6837 - val_mean_absolute_error: 21.6031\n",
      "Epoch 10/120\n",
      "57/57 [==============================] - 0s 5ms/step - loss: 124.8935 - mean_absolute_error: 8.7365 - val_loss: 920.7734 - val_mean_absolute_error: 23.9429\n",
      "Epoch 11/120\n",
      "57/57 [==============================] - 0s 6ms/step - loss: 126.7292 - mean_absolute_error: 8.6108 - val_loss: 822.7891 - val_mean_absolute_error: 23.4706\n",
      "Epoch 12/120\n",
      "57/57 [==============================] - 0s 6ms/step - loss: 49.2615 - mean_absolute_error: 5.0988 - val_loss: 885.0518 - val_mean_absolute_error: 23.9372\n",
      "Epoch 13/120\n",
      "57/57 [==============================] - 0s 8ms/step - loss: 153.2957 - mean_absolute_error: 9.8375 - val_loss: 691.6044 - val_mean_absolute_error: 21.1658\n",
      "Epoch 14/120\n",
      "57/57 [==============================] - 0s 7ms/step - loss: 50.7346 - mean_absolute_error: 5.1177 - val_loss: 658.0385 - val_mean_absolute_error: 19.8806\n",
      "Epoch 15/120\n",
      "57/57 [==============================] - ETA: 0s - loss: 22.3942 - mean_absolute_error: 3.38 - 0s 5ms/step - loss: 22.1969 - mean_absolute_error: 3.3156 - val_loss: 760.5773 - val_mean_absolute_error: 22.3122\n",
      "Epoch 16/120\n",
      "57/57 [==============================] - 0s 7ms/step - loss: 12.1683 - mean_absolute_error: 2.5447 - val_loss: 731.8177 - val_mean_absolute_error: 21.1830\n",
      "Epoch 17/120\n",
      "57/57 [==============================] - 0s 7ms/step - loss: 146.9669 - mean_absolute_error: 9.3675 - val_loss: 968.4598 - val_mean_absolute_error: 25.2084\n",
      "Epoch 18/120\n",
      "57/57 [==============================] - 0s 6ms/step - loss: 192.4588 - mean_absolute_error: 10.0342 - val_loss: 705.2772 - val_mean_absolute_error: 21.0006\n",
      "Epoch 19/120\n",
      "57/57 [==============================] - 0s 7ms/step - loss: 48.8100 - mean_absolute_error: 5.5878 - val_loss: 731.1281 - val_mean_absolute_error: 21.9740\n",
      "Epoch 20/120\n",
      "57/57 [==============================] - 0s 7ms/step - loss: 100.8841 - mean_absolute_error: 7.9772 - val_loss: 707.9626 - val_mean_absolute_error: 20.9703\n",
      "Epoch 21/120\n",
      "57/57 [==============================] - 0s 7ms/step - loss: 90.7154 - mean_absolute_error: 7.0612 - val_loss: 683.2125 - val_mean_absolute_error: 21.3041\n",
      "Epoch 22/120\n",
      "57/57 [==============================] - 0s 6ms/step - loss: 55.7869 - mean_absolute_error: 5.5520 - val_loss: 1328.7500 - val_mean_absolute_error: 27.6618\n",
      "Epoch 23/120\n",
      "57/57 [==============================] - 0s 6ms/step - loss: 142.0850 - mean_absolute_error: 7.4363 - val_loss: 790.9340 - val_mean_absolute_error: 23.1276\n",
      "Epoch 24/120\n",
      "57/57 [==============================] - 0s 7ms/step - loss: 20.3324 - mean_absolute_error: 2.9776 - val_loss: 834.3964 - val_mean_absolute_error: 23.4444\n",
      "Epoch 25/120\n",
      "57/57 [==============================] - 0s 7ms/step - loss: 10.9622 - mean_absolute_error: 2.4763 - val_loss: 726.2211 - val_mean_absolute_error: 21.7748\n",
      "Epoch 26/120\n",
      "57/57 [==============================] - 0s 6ms/step - loss: 64.3834 - mean_absolute_error: 6.2471 - val_loss: 757.7314 - val_mean_absolute_error: 21.9906\n",
      "Epoch 27/120\n",
      "57/57 [==============================] - 0s 6ms/step - loss: 109.1550 - mean_absolute_error: 7.4602 - val_loss: 1003.0150 - val_mean_absolute_error: 24.8945\n",
      "Epoch 28/120\n",
      "57/57 [==============================] - 0s 6ms/step - loss: 84.6130 - mean_absolute_error: 6.5948 - val_loss: 753.1462 - val_mean_absolute_error: 22.3021\n",
      "Epoch 29/120\n",
      "57/57 [==============================] - 0s 8ms/step - loss: 17.2894 - mean_absolute_error: 2.9405 - val_loss: 711.0439 - val_mean_absolute_error: 21.5833\n",
      "Epoch 30/120\n",
      "57/57 [==============================] - 0s 7ms/step - loss: 4.8599 - mean_absolute_error: 1.6218 - val_loss: 716.7504 - val_mean_absolute_error: 21.3229\n",
      "Epoch 31/120\n",
      "57/57 [==============================] - 0s 6ms/step - loss: 72.7853 - mean_absolute_error: 5.7775 - val_loss: 1047.9358 - val_mean_absolute_error: 25.4202\n",
      "Epoch 32/120\n",
      "57/57 [==============================] - 0s 6ms/step - loss: 103.7059 - mean_absolute_error: 7.2680 - val_loss: 793.9040 - val_mean_absolute_error: 22.5922\n",
      "Epoch 33/120\n",
      "57/57 [==============================] - 0s 8ms/step - loss: 35.9153 - mean_absolute_error: 3.9051 - val_loss: 774.1974 - val_mean_absolute_error: 21.0802\n",
      "Epoch 34/120\n",
      "57/57 [==============================] - 0s 9ms/step - loss: 75.0342 - mean_absolute_error: 6.2584 - val_loss: 1220.5063 - val_mean_absolute_error: 26.5200\n",
      "Epoch 35/120\n",
      "57/57 [==============================] - 0s 6ms/step - loss: 83.7663 - mean_absolute_error: 6.6627 - val_loss: 825.7454 - val_mean_absolute_error: 22.7287\n",
      "Epoch 36/120\n",
      "57/57 [==============================] - 1s 10ms/step - loss: 33.0275 - mean_absolute_error: 4.0101 - val_loss: 889.6483 - val_mean_absolute_error: 22.7181\n",
      "Epoch 37/120\n",
      "57/57 [==============================] - 0s 7ms/step - loss: 56.0299 - mean_absolute_error: 5.2639 - val_loss: 750.6897 - val_mean_absolute_error: 21.9276\n",
      "Epoch 38/120\n",
      "57/57 [==============================] - 0s 6ms/step - loss: 15.1624 - mean_absolute_error: 2.7773 - val_loss: 753.0886 - val_mean_absolute_error: 22.0024\n",
      "Epoch 39/120\n",
      "57/57 [==============================] - 0s 8ms/step - loss: 9.7839 - mean_absolute_error: 2.1854 - val_loss: 738.6465 - val_mean_absolute_error: 21.8851\n",
      "Epoch 40/120\n",
      "57/57 [==============================] - 1s 11ms/step - loss: 50.4633 - mean_absolute_error: 4.8882 - val_loss: 968.6023 - val_mean_absolute_error: 25.5010\n",
      "Epoch 41/120\n",
      "57/57 [==============================] - 1s 11ms/step - loss: 189.8331 - mean_absolute_error: 10.0002 - val_loss: 712.4464 - val_mean_absolute_error: 20.7892\n",
      "Epoch 42/120\n",
      "57/57 [==============================] - 0s 6ms/step - loss: 49.6443 - mean_absolute_error: 4.9833 - val_loss: 744.7051 - val_mean_absolute_error: 21.1564\n",
      "Epoch 43/120\n",
      "57/57 [==============================] - 0s 6ms/step - loss: 50.3593 - mean_absolute_error: 5.3935 - val_loss: 729.5958 - val_mean_absolute_error: 21.3604\n",
      "Epoch 44/120\n",
      "57/57 [==============================] - 0s 6ms/step - loss: 24.3658 - mean_absolute_error: 3.6879 - val_loss: 670.4471 - val_mean_absolute_error: 20.2516\n",
      "Epoch 45/120\n",
      "57/57 [==============================] - 0s 6ms/step - loss: 7.3964 - mean_absolute_error: 1.9165 - val_loss: 749.2202 - val_mean_absolute_error: 20.8450\n",
      "Epoch 46/120\n",
      "57/57 [==============================] - 0s 6ms/step - loss: 47.7153 - mean_absolute_error: 4.9965 - val_loss: 730.9716 - val_mean_absolute_error: 20.3538\n",
      "Epoch 47/120\n",
      "57/57 [==============================] - 0s 6ms/step - loss: 37.3964 - mean_absolute_error: 3.8779 - val_loss: 861.2927 - val_mean_absolute_error: 23.2511\n",
      "Epoch 48/120\n",
      "57/57 [==============================] - 0s 6ms/step - loss: 80.4485 - mean_absolute_error: 6.7588 - val_loss: 787.0717 - val_mean_absolute_error: 22.0064\n"
     ]
    },
    {
     "name": "stdout",
     "output_type": "stream",
     "text": [
      "Epoch 49/120\n",
      "57/57 [==============================] - 0s 5ms/step - loss: 38.4648 - mean_absolute_error: 4.4218 - val_loss: 777.3099 - val_mean_absolute_error: 21.3643\n",
      "Epoch 50/120\n",
      "57/57 [==============================] - 0s 5ms/step - loss: 10.5428 - mean_absolute_error: 2.3056 - val_loss: 759.7744 - val_mean_absolute_error: 21.6452\n",
      "Epoch 51/120\n",
      "57/57 [==============================] - 0s 6ms/step - loss: 6.1905 - mean_absolute_error: 1.7029 - val_loss: 732.8892 - val_mean_absolute_error: 21.4885\n",
      "Epoch 52/120\n",
      "57/57 [==============================] - 0s 6ms/step - loss: 54.1963 - mean_absolute_error: 5.0560 - val_loss: 1035.6379 - val_mean_absolute_error: 23.1497\n",
      "Epoch 53/120\n",
      "57/57 [==============================] - 0s 6ms/step - loss: 154.8560 - mean_absolute_error: 8.4106 - val_loss: 731.6235 - val_mean_absolute_error: 21.6043\n",
      "Epoch 54/120\n",
      "57/57 [==============================] - 0s 6ms/step - loss: 17.8728 - mean_absolute_error: 2.7732 - val_loss: 741.6324 - val_mean_absolute_error: 21.3373\n",
      "Epoch 55/120\n",
      "57/57 [==============================] - 0s 6ms/step - loss: 33.2397 - mean_absolute_error: 4.2017 - val_loss: 723.5302 - val_mean_absolute_error: 20.9989\n",
      "Epoch 56/120\n",
      "57/57 [==============================] - 0s 6ms/step - loss: 9.8011 - mean_absolute_error: 2.2320 - val_loss: 748.2814 - val_mean_absolute_error: 21.3559\n",
      "Epoch 57/120\n",
      "57/57 [==============================] - 0s 7ms/step - loss: 60.8986 - mean_absolute_error: 5.5099 - val_loss: 747.7510 - val_mean_absolute_error: 21.4183\n",
      "Epoch 58/120\n",
      "57/57 [==============================] - 1s 9ms/step - loss: 12.2879 - mean_absolute_error: 2.5038 - val_loss: 847.7690 - val_mean_absolute_error: 22.7170\n",
      "Epoch 59/120\n",
      "57/57 [==============================] - 0s 6ms/step - loss: 90.7293 - mean_absolute_error: 7.2850 - val_loss: 1059.3817 - val_mean_absolute_error: 24.8346\n",
      "Epoch 60/120\n",
      "57/57 [==============================] - 0s 6ms/step - loss: 80.3623 - mean_absolute_error: 5.9584 - val_loss: 845.8229 - val_mean_absolute_error: 22.6582\n",
      "Epoch 61/120\n",
      "57/57 [==============================] - 0s 6ms/step - loss: 10.2972 - mean_absolute_error: 2.1650 - val_loss: 946.3311 - val_mean_absolute_error: 23.6268\n",
      "Epoch 62/120\n",
      "57/57 [==============================] - 0s 6ms/step - loss: 61.3568 - mean_absolute_error: 5.9647 - val_loss: 782.7908 - val_mean_absolute_error: 21.1475\n",
      "Epoch 63/120\n",
      "57/57 [==============================] - 0s 6ms/step - loss: 13.0823 - mean_absolute_error: 2.7139 - val_loss: 823.3225 - val_mean_absolute_error: 22.3258\n",
      "Epoch 64/120\n",
      "57/57 [==============================] - 0s 6ms/step - loss: 10.6949 - mean_absolute_error: 2.4081 - val_loss: 773.2863 - val_mean_absolute_error: 21.2577\n",
      "Epoch 65/120\n",
      "57/57 [==============================] - 0s 6ms/step - loss: 98.9616 - mean_absolute_error: 7.0943 - val_loss: 808.7148 - val_mean_absolute_error: 23.9511\n",
      "Epoch 66/120\n",
      "57/57 [==============================] - 0s 5ms/step - loss: 17.9015 - mean_absolute_error: 3.0487 - val_loss: 843.5251 - val_mean_absolute_error: 24.0144\n",
      "Epoch 67/120\n",
      "57/57 [==============================] - 0s 5ms/step - loss: 19.2211 - mean_absolute_error: 3.0093 - val_loss: 782.9814 - val_mean_absolute_error: 22.3815\n",
      "Epoch 68/120\n",
      "57/57 [==============================] - 0s 6ms/step - loss: 4.7316 - mean_absolute_error: 1.4498 - val_loss: 816.7657 - val_mean_absolute_error: 22.4081\n",
      "Epoch 69/120\n",
      "57/57 [==============================] - 0s 6ms/step - loss: 111.7112 - mean_absolute_error: 7.1338 - val_loss: 759.5760 - val_mean_absolute_error: 22.2146\n",
      "Epoch 70/120\n",
      "57/57 [==============================] - 0s 6ms/step - loss: 18.5879 - mean_absolute_error: 2.9265 - val_loss: 813.7137 - val_mean_absolute_error: 22.2900\n",
      "Epoch 71/120\n",
      "57/57 [==============================] - 0s 7ms/step - loss: 12.1110 - mean_absolute_error: 2.5212 - val_loss: 777.1976 - val_mean_absolute_error: 22.3406\n",
      "Epoch 72/120\n",
      "57/57 [==============================] - 0s 7ms/step - loss: 29.0851 - mean_absolute_error: 3.5977 - val_loss: 1252.9487 - val_mean_absolute_error: 27.2556\n",
      "Epoch 73/120\n",
      "57/57 [==============================] - 0s 6ms/step - loss: 89.3852 - mean_absolute_error: 6.9322 - val_loss: 911.0184 - val_mean_absolute_error: 23.7034\n",
      "Epoch 74/120\n",
      "57/57 [==============================] - 0s 7ms/step - loss: 17.2606 - mean_absolute_error: 3.0149 - val_loss: 950.7442 - val_mean_absolute_error: 24.1748\n",
      "Epoch 75/120\n",
      "57/57 [==============================] - 0s 8ms/step - loss: 37.6613 - mean_absolute_error: 4.1026 - val_loss: 804.1422 - val_mean_absolute_error: 22.2445\n",
      "Epoch 76/120\n",
      "57/57 [==============================] - 0s 6ms/step - loss: 7.0882 - mean_absolute_error: 1.9753 - val_loss: 763.6054 - val_mean_absolute_error: 21.8416\n",
      "Epoch 77/120\n",
      "57/57 [==============================] - 0s 6ms/step - loss: 5.5287 - mean_absolute_error: 1.6765 - val_loss: 751.9338 - val_mean_absolute_error: 21.6397\n",
      "Epoch 78/120\n",
      "57/57 [==============================] - 0s 6ms/step - loss: 90.0191 - mean_absolute_error: 7.0811 - val_loss: 760.2733 - val_mean_absolute_error: 21.8800\n",
      "Epoch 79/120\n",
      "57/57 [==============================] - 0s 6ms/step - loss: 34.4160 - mean_absolute_error: 3.8846 - val_loss: 836.1586 - val_mean_absolute_error: 22.1618\n",
      "Epoch 80/120\n",
      "57/57 [==============================] - 0s 7ms/step - loss: 24.4259 - mean_absolute_error: 2.8041 - val_loss: 790.3525 - val_mean_absolute_error: 22.6312\n",
      "Epoch 81/120\n",
      "57/57 [==============================] - 0s 7ms/step - loss: 21.9714 - mean_absolute_error: 3.5407 - val_loss: 765.5031 - val_mean_absolute_error: 22.1925\n",
      "Epoch 82/120\n",
      "57/57 [==============================] - 0s 7ms/step - loss: 46.2707 - mean_absolute_error: 4.9893 - val_loss: 835.3738 - val_mean_absolute_error: 23.0801\n",
      "Epoch 83/120\n",
      "57/57 [==============================] - 0s 7ms/step - loss: 11.9817 - mean_absolute_error: 2.5070 - val_loss: 782.6536 - val_mean_absolute_error: 22.0824\n",
      "Epoch 84/120\n",
      "57/57 [==============================] - 0s 6ms/step - loss: 36.1937 - mean_absolute_error: 4.2304 - val_loss: 811.6765 - val_mean_absolute_error: 21.9406\n",
      "Epoch 85/120\n",
      "57/57 [==============================] - 0s 6ms/step - loss: 5.9828 - mean_absolute_error: 1.7241 - val_loss: 809.3342 - val_mean_absolute_error: 22.1622\n",
      "Epoch 86/120\n",
      "57/57 [==============================] - 0s 6ms/step - loss: 29.1583 - mean_absolute_error: 3.7925 - val_loss: 797.9893 - val_mean_absolute_error: 20.3176\n",
      "Epoch 87/120\n",
      "57/57 [==============================] - 0s 6ms/step - loss: 72.5195 - mean_absolute_error: 6.2070 - val_loss: 750.9880 - val_mean_absolute_error: 21.4009\n",
      "Epoch 88/120\n",
      "57/57 [==============================] - 0s 7ms/step - loss: 16.1308 - mean_absolute_error: 2.8949 - val_loss: 837.4187 - val_mean_absolute_error: 22.3721\n",
      "Epoch 89/120\n",
      "57/57 [==============================] - 0s 7ms/step - loss: 28.2834 - mean_absolute_error: 3.6639 - val_loss: 876.6943 - val_mean_absolute_error: 23.0386\n",
      "Epoch 90/120\n",
      "57/57 [==============================] - 0s 7ms/step - loss: 43.8434 - mean_absolute_error: 4.8082 - val_loss: 838.5879 - val_mean_absolute_error: 22.5661\n",
      "Epoch 91/120\n",
      "57/57 [==============================] - 0s 7ms/step - loss: 9.7116 - mean_absolute_error: 1.9645 - val_loss: 760.3301 - val_mean_absolute_error: 21.1189\n",
      "Epoch 92/120\n",
      "57/57 [==============================] - 0s 6ms/step - loss: 20.4192 - mean_absolute_error: 3.0945 - val_loss: 766.9764 - val_mean_absolute_error: 22.0756\n",
      "Epoch 93/120\n",
      "57/57 [==============================] - 0s 6ms/step - loss: 25.8356 - mean_absolute_error: 3.5715 - val_loss: 751.7345 - val_mean_absolute_error: 20.8995\n",
      "Epoch 94/120\n",
      "57/57 [==============================] - 0s 6ms/step - loss: 10.9461 - mean_absolute_error: 2.2268 - val_loss: 744.6935 - val_mean_absolute_error: 21.2917\n",
      "Epoch 95/120\n",
      "57/57 [==============================] - 0s 6ms/step - loss: 29.5985 - mean_absolute_error: 3.5557 - val_loss: 877.7997 - val_mean_absolute_error: 22.7035\n",
      "Epoch 96/120\n",
      "57/57 [==============================] - 0s 6ms/step - loss: 97.4753 - mean_absolute_error: 7.4233 - val_loss: 815.4699 - val_mean_absolute_error: 22.5905\n",
      "Epoch 97/120\n",
      "57/57 [==============================] - 0s 6ms/step - loss: 11.5479 - mean_absolute_error: 2.5271 - val_loss: 776.9355 - val_mean_absolute_error: 22.2982\n"
     ]
    },
    {
     "name": "stdout",
     "output_type": "stream",
     "text": [
      "Epoch 98/120\n",
      "57/57 [==============================] - 0s 6ms/step - loss: 5.9820 - mean_absolute_error: 1.6995 - val_loss: 789.7558 - val_mean_absolute_error: 22.5114\n",
      "Epoch 99/120\n",
      "57/57 [==============================] - 0s 6ms/step - loss: 7.9563 - mean_absolute_error: 1.9207 - val_loss: 1007.8964 - val_mean_absolute_error: 25.3464\n",
      "Epoch 100/120\n",
      "57/57 [==============================] - 0s 6ms/step - loss: 88.9499 - mean_absolute_error: 6.4422 - val_loss: 767.6916 - val_mean_absolute_error: 20.9753\n",
      "Epoch 101/120\n",
      "57/57 [==============================] - 0s 6ms/step - loss: 11.9133 - mean_absolute_error: 2.4448 - val_loss: 909.9684 - val_mean_absolute_error: 23.5921\n",
      "Epoch 102/120\n",
      "57/57 [==============================] - 0s 6ms/step - loss: 47.1595 - mean_absolute_error: 5.0893 - val_loss: 893.6132 - val_mean_absolute_error: 22.9155\n",
      "Epoch 103/120\n",
      "57/57 [==============================] - 0s 6ms/step - loss: 9.1611 - mean_absolute_error: 2.1238 - val_loss: 797.9931 - val_mean_absolute_error: 21.6447\n",
      "Epoch 104/120\n",
      "57/57 [==============================] - 0s 6ms/step - loss: 10.8299 - mean_absolute_error: 2.2549 - val_loss: 843.0539 - val_mean_absolute_error: 22.8142\n",
      "Epoch 105/120\n",
      "57/57 [==============================] - 0s 6ms/step - loss: 26.8084 - mean_absolute_error: 3.3198 - val_loss: 913.2430 - val_mean_absolute_error: 23.2793\n",
      "Epoch 106/120\n",
      "57/57 [==============================] - 0s 6ms/step - loss: 30.2885 - mean_absolute_error: 3.9141 - val_loss: 1005.7209 - val_mean_absolute_error: 24.5309\n",
      "Epoch 107/120\n",
      "57/57 [==============================] - 0s 6ms/step - loss: 69.6357 - mean_absolute_error: 5.4286 - val_loss: 806.4953 - val_mean_absolute_error: 22.2870\n",
      "Epoch 108/120\n",
      "57/57 [==============================] - 0s 6ms/step - loss: 8.3378 - mean_absolute_error: 1.9733 - val_loss: 760.5263 - val_mean_absolute_error: 21.3322\n",
      "Epoch 109/120\n",
      "57/57 [==============================] - 0s 6ms/step - loss: 9.0511 - mean_absolute_error: 2.1311 - val_loss: 792.8849 - val_mean_absolute_error: 22.0235\n",
      "Epoch 110/120\n",
      "57/57 [==============================] - 0s 6ms/step - loss: 5.8622 - mean_absolute_error: 1.6370 - val_loss: 775.6893 - val_mean_absolute_error: 21.7751\n",
      "Epoch 111/120\n",
      "57/57 [==============================] - 0s 7ms/step - loss: 73.7707 - mean_absolute_error: 6.0556 - val_loss: 771.6750 - val_mean_absolute_error: 21.8556\n",
      "Epoch 112/120\n",
      "57/57 [==============================] - 0s 6ms/step - loss: 11.5738 - mean_absolute_error: 2.3992 - val_loss: 793.2825 - val_mean_absolute_error: 21.6997\n",
      "Epoch 113/120\n",
      "57/57 [==============================] - 0s 6ms/step - loss: 10.9580 - mean_absolute_error: 2.3202 - val_loss: 823.9391 - val_mean_absolute_error: 22.0811\n",
      "Epoch 114/120\n",
      "57/57 [==============================] - 0s 6ms/step - loss: 18.4582 - mean_absolute_error: 2.8475 - val_loss: 786.0300 - val_mean_absolute_error: 21.5808\n",
      "Epoch 115/120\n",
      "57/57 [==============================] - 0s 6ms/step - loss: 23.6508 - mean_absolute_error: 3.0337 - val_loss: 1152.6899 - val_mean_absolute_error: 25.5852\n",
      "Epoch 116/120\n",
      "57/57 [==============================] - 0s 6ms/step - loss: 60.5399 - mean_absolute_error: 5.6455 - val_loss: 880.1131 - val_mean_absolute_error: 23.0797\n",
      "Epoch 117/120\n",
      "57/57 [==============================] - 0s 6ms/step - loss: 13.7528 - mean_absolute_error: 2.4868 - val_loss: 879.8940 - val_mean_absolute_error: 23.3831\n",
      "Epoch 118/120\n",
      "57/57 [==============================] - 0s 6ms/step - loss: 5.8048 - mean_absolute_error: 1.6687 - val_loss: 859.8132 - val_mean_absolute_error: 22.6301\n",
      "Epoch 119/120\n",
      "57/57 [==============================] - ETA: 0s - loss: 74.9185 - mean_absolute_error: 6.73 - 0s 6ms/step - loss: 63.7134 - mean_absolute_error: 5.8558 - val_loss: 921.7139 - val_mean_absolute_error: 23.2773\n",
      "Epoch 120/120\n",
      "57/57 [==============================] - 0s 6ms/step - loss: 11.9007 - mean_absolute_error: 2.3192 - val_loss: 854.4417 - val_mean_absolute_error: 22.4696\n"
     ]
    }
   ],
   "source": [
    "# Train the model and capture history\n",
    "history = model.fit(X_train, y_train, epochs=120, batch_size=16, validation_split=0.2, callbacks=[checkpoint])"
   ]
  },
  {
   "cell_type": "markdown",
   "id": "25a09591",
   "metadata": {},
   "source": [
    "run the model or take predictions on the testing data"
   ]
  },
  {
   "cell_type": "code",
   "execution_count": 21,
   "id": "b3c66a20",
   "metadata": {},
   "outputs": [
    {
     "name": "stdout",
     "output_type": "stream",
     "text": [
      "\r",
      "19/19 [==============================] - 0s 1ms/step\n"
     ]
    }
   ],
   "source": [
    "# Evaluate the model\n",
    "loss, mae = model.evaluate(X_test, y_test)"
   ]
  },
  {
   "cell_type": "markdown",
   "id": "9d4e879d",
   "metadata": {},
   "source": [
    "below cell runs the model on all data and print information on the results to the console"
   ]
  },
  {
   "cell_type": "code",
   "execution_count": 22,
   "id": "de4f507b",
   "metadata": {},
   "outputs": [
    {
     "name": "stdout",
     "output_type": "stream",
     "text": [
      "91/91 [==============================] - 0s 647us/step\n",
      "Test Mean Absolute Error: 27.25\n",
      "Overall Mean Absolute Error on All Data: 10.00\n"
     ]
    }
   ],
   "source": [
    "# Combine training and test data for overall evaluation\n",
    "X_all = np.concatenate((X_train, X_test), axis=0)\n",
    "y_all = np.concatenate((y_train, y_test), axis=0)\n",
    "loss_all, mae_all = model.evaluate(X_all, y_all)\n",
    "print(f'Test Mean Absolute Error: {mae:.2f}')\n",
    "print(f'Overall Mean Absolute Error on All Data: {mae_all:.2f}')"
   ]
  },
  {
   "cell_type": "markdown",
   "id": "7eaa9d21",
   "metadata": {},
   "source": [
    "cell plots a graph to show prediction results on both the training and validation set of data. \n",
    "\n",
    "the graph below has the loss on the y axis and Epoch on the x-axis. the Epochs can be considered a timeline of training the models as the number of epochs is the number of times the data is ran through the model and the loss is total error. the model with the lowest result on the validation set will be the model saved a lower loss on the validation set will typicall indicate a better performing model."
   ]
  },
  {
   "cell_type": "code",
   "execution_count": 23,
   "id": "62a6baa6",
   "metadata": {},
   "outputs": [
    {
     "data": {
      "image/png": "[encoded data removed]",
      "text/plain": [
       "<Figure size 1000x500 with 1 Axes>"
      ]
     },
     "metadata": {},
     "output_type": "display_data"
    }
   ],
   "source": [
    "# Plot training & validation loss values\n",
    "plt.figure(figsize=(10, 5))\n",
    "plt.plot(history.history['loss'], label='Train Loss')\n",
    "plt.plot(history.history['val_loss'], label='Validation Loss')\n",
    "plt.title('Model Loss')\n",
    "plt.ylabel('Loss')\n",
    "plt.xlabel('Epoch')\n",
    "plt.legend(loc='upper right')\n",
    "plt.show()"
   ]
  },
  {
   "cell_type": "markdown",
   "id": "a1db6be4",
   "metadata": {},
   "source": [
    "save the model to a file"
   ]
  },
  {
   "cell_type": "code",
   "execution_count": 24,
   "id": "e88b3b97",
   "metadata": {},
   "outputs": [
    {
     "name": "stdout",
     "output_type": "stream",
     "text": [
      "Model saved as '50_DNN_MT_WELD_Testing.keras'\n"
     ]
    }
   ],
   "source": [
    "# Save the model\n",
    "model.save('50_DNN_MT_WELD_Testing.keras')\n",
    "print(\"Model saved as '50_DNN_MT_WELD_Testing.keras'\")"
   ]
  }
 ],
 "metadata": {
  "kernelspec": {
   "display_name": "Python 3 (ipykernel)",
   "language": "python",
   "name": "python3"
  },
  "language_info": {
   "codemirror_mode": {
    "name": "ipython",
    "version": 3
   },
   "file_extension": ".py",
   "mimetype": "text/x-python",
   "name": "python",
   "nbconvert_exporter": "python",
   "pygments_lexer": "ipython3",
   "version": "3.7.16"
  }
 },
 "nbformat": 4,
 "nbformat_minor": 5
}
